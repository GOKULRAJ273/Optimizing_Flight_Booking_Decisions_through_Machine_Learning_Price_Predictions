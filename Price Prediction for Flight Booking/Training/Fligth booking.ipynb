{
  "nbformat": 4,
  "nbformat_minor": 0,
  "metadata": {
    "colab": {
      "provenance": []
    },
    "kernelspec": {
      "name": "python3",
      "display_name": "Python 3"
    },
    "language_info": {
      "name": "python"
    }
  },
  "cells": [
    {
      "cell_type": "code",
      "execution_count": 209,
      "metadata": {
        "id": "Hq9AQs9Ne1G4"
      },
      "outputs": [],
      "source": [
        "import numpy as np\n",
        "import pandas as pd \n",
        "import matplotlib.pyplot as plt\n",
        "import seaborn as sns\n",
        "from sklearn.model_selection import train_test_split\n",
        "from sklearn.ensemble import RandomForestClassifier, GradientBoostingClassifier\n",
        "from sklearn.tree import DecisionTreeClassifier\n",
        "from sklearn.neighbors import KNeighborsClassifier\n",
        "from sklearn.metrics import f1_score\n",
        "from sklearn.metrics import classification_report, confusion_matrix\n",
        "import warnings\n",
        "import pickle\n",
        "from scipy import stats\n",
        "warnings.filterwarnings('ignore')\n",
        "\n",
        "# Load the data directly from the Excel file\n",
        "data = pd.read_csv('/content/Data_Train.csv')\n",
        "\n",
        "\n",
        "\n",
        "\n"
      ]
    },
    {
      "cell_type": "code",
      "source": [
        "# Print the first few rows of the data\n",
        "print(data.head())"
      ],
      "metadata": {
        "colab": {
          "base_uri": "https://localhost:8080/"
        },
        "id": "MfiCKxb8fgc8",
        "outputId": "eae3d87c-5573-4a6a-f1f1-e6f464f260f1"
      },
      "execution_count": 210,
      "outputs": [
        {
          "output_type": "stream",
          "name": "stdout",
          "text": [
            "       Airline Date_of_Journey    Source Destination                  Route  \\\n",
            "0       IndiGo      24/03/2019  Banglore   New Delhi              BLR ? DEL   \n",
            "1    Air India       1/05/2019   Kolkata    Banglore  CCU ? IXR ? BBI ? BLR   \n",
            "2  Jet Airways       9/06/2019     Delhi      Cochin  DEL ? LKO ? BOM ? COK   \n",
            "3       IndiGo      12/05/2019   Kolkata    Banglore        CCU ? NAG ? BLR   \n",
            "4       IndiGo      01/03/2019  Banglore   New Delhi        BLR ? NAG ? DEL   \n",
            "\n",
            "  Dep_Time  Arrival_Time Duration Total_Stops Additional_Info  Price  \n",
            "0    22:20  01:10 22 Mar   2h 50m    non-stop         No info   3897  \n",
            "1    05:50         13:15   7h 25m     2 stops         No info   7662  \n",
            "2    09:25  04:25 10 Jun      19h     2 stops         No info  13882  \n",
            "3    18:05         23:30   5h 25m      1 stop         No info   6218  \n",
            "4    16:50         21:35   4h 45m      1 stop         No info  13302  \n"
          ]
        }
      ]
    },
    {
      "cell_type": "code",
      "source": [
        "# Print the unique values in each categorical column\n",
        "for i in data.select_dtypes(include='object'):\n",
        "    print(i, data[i].unique())"
      ],
      "metadata": {
        "colab": {
          "base_uri": "https://localhost:8080/"
        },
        "id": "f8vHfQkqfbup",
        "outputId": "e2100c5e-c97d-4498-924c-eeaf7937ae02"
      },
      "execution_count": 211,
      "outputs": [
        {
          "output_type": "stream",
          "name": "stdout",
          "text": [
            "Airline ['IndiGo' 'Air India' 'Jet Airways' 'SpiceJet' 'Multiple carriers' 'GoAir'\n",
            " 'Vistara' 'Air Asia' 'Vistara Premium economy' 'Jet Airways Business'\n",
            " 'Multiple carriers Premium economy' 'Trujet']\n",
            "Date_of_Journey ['24/03/2019' '1/05/2019' '9/06/2019' '12/05/2019' '01/03/2019'\n",
            " '24/06/2019' '12/03/2019' '27/05/2019' '1/06/2019' '18/04/2019'\n",
            " '9/05/2019' '24/04/2019' '3/03/2019' '15/04/2019' '12/06/2019'\n",
            " '6/03/2019' '21/03/2019' '3/04/2019' '6/05/2019' '15/05/2019'\n",
            " '18/06/2019' '15/06/2019' '6/04/2019' '18/05/2019' '27/06/2019'\n",
            " '21/05/2019' '06/03/2019' '3/06/2019' '15/03/2019' '3/05/2019'\n",
            " '9/03/2019' '6/06/2019' '24/05/2019' '09/03/2019' '1/04/2019'\n",
            " '21/04/2019' '21/06/2019' '27/03/2019' '18/03/2019' '12/04/2019'\n",
            " '9/04/2019' '1/03/2019' '03/03/2019' '27/04/2019']\n",
            "Source ['Banglore' 'Kolkata' 'Delhi' 'Chennai' 'Mumbai']\n",
            "Destination ['New Delhi' 'Banglore' 'Cochin' 'Kolkata' 'Delhi' 'Hyderabad']\n",
            "Route ['BLR ? DEL' 'CCU ? IXR ? BBI ? BLR' 'DEL ? LKO ? BOM ? COK'\n",
            " 'CCU ? NAG ? BLR' 'BLR ? NAG ? DEL' 'CCU ? BLR' 'BLR ? BOM ? DEL'\n",
            " 'DEL ? BOM ? COK' 'DEL ? BLR ? COK' 'MAA ? CCU' 'CCU ? BOM ? BLR'\n",
            " 'DEL ? AMD ? BOM ? COK' 'DEL ? PNQ ? COK' 'DEL ? CCU ? BOM ? COK'\n",
            " 'BLR ? COK ? DEL' 'DEL ? IDR ? BOM ? COK' 'DEL ? LKO ? COK'\n",
            " 'CCU ? GAU ? DEL ? BLR' 'DEL ? NAG ? BOM ? COK' 'CCU ? MAA ? BLR'\n",
            " 'DEL ? HYD ? COK' 'CCU ? HYD ? BLR' 'DEL ? COK' 'CCU ? DEL ? BLR'\n",
            " 'BLR ? BOM ? AMD ? DEL' 'BOM ? DEL ? HYD' 'DEL ? MAA ? COK' 'BOM ? HYD'\n",
            " 'DEL ? BHO ? BOM ? COK' 'DEL ? JAI ? BOM ? COK' 'DEL ? ATQ ? BOM ? COK'\n",
            " 'DEL ? JDH ? BOM ? COK' 'CCU ? BBI ? BOM ? BLR' 'BLR ? MAA ? DEL'\n",
            " 'DEL ? GOI ? BOM ? COK' 'DEL ? BDQ ? BOM ? COK' 'CCU ? JAI ? BOM ? BLR'\n",
            " 'CCU ? BBI ? BLR' 'BLR ? HYD ? DEL' 'DEL ? TRV ? COK'\n",
            " 'CCU ? IXR ? DEL ? BLR' 'DEL ? IXU ? BOM ? COK' 'CCU ? IXB ? BLR'\n",
            " 'BLR ? BOM ? JDH ? DEL' 'DEL ? UDR ? BOM ? COK' 'DEL ? HYD ? MAA ? COK'\n",
            " 'CCU ? BOM ? COK ? BLR' 'BLR ? CCU ? DEL' 'CCU ? BOM ? GOI ? BLR'\n",
            " 'DEL ? RPR ? NAG ? BOM ? COK' 'DEL ? HYD ? BOM ? COK'\n",
            " 'CCU ? DEL ? AMD ? BLR' 'CCU ? PNQ ? BLR' 'BLR ? CCU ? GAU ? DEL'\n",
            " 'CCU ? DEL ? COK ? BLR' 'BLR ? PNQ ? DEL' 'BOM ? JDH ? DEL ? HYD'\n",
            " 'BLR ? BOM ? BHO ? DEL' 'DEL ? AMD ? COK' 'BLR ? LKO ? DEL'\n",
            " 'CCU ? GAU ? BLR' 'BOM ? GOI ? HYD' 'CCU ? BOM ? AMD ? BLR'\n",
            " 'CCU ? BBI ? IXR ? DEL ? BLR' 'DEL ? DED ? BOM ? COK'\n",
            " 'DEL ? MAA ? BOM ? COK' 'BLR ? AMD ? DEL' 'BLR ? VGA ? DEL'\n",
            " 'CCU ? JAI ? DEL ? BLR' 'CCU ? AMD ? BLR' 'CCU ? VNS ? DEL ? BLR'\n",
            " 'BLR ? BOM ? IDR ? DEL' 'BLR ? BBI ? DEL' 'BLR ? GOI ? DEL'\n",
            " 'BOM ? AMD ? ISK ? HYD' 'BOM ? DED ? DEL ? HYD' 'DEL ? IXC ? BOM ? COK'\n",
            " 'CCU ? PAT ? BLR' 'BLR ? CCU ? BBI ? DEL' 'CCU ? BBI ? HYD ? BLR'\n",
            " 'BLR ? BOM ? NAG ? DEL' 'BLR ? CCU ? BBI ? HYD ? DEL' 'BLR ? GAU ? DEL'\n",
            " 'BOM ? BHO ? DEL ? HYD' 'BOM ? JLR ? HYD' 'BLR ? HYD ? VGA ? DEL'\n",
            " 'CCU ? KNU ? BLR' 'CCU ? BOM ? PNQ ? BLR' 'DEL ? BBI ? COK'\n",
            " 'BLR ? VGA ? HYD ? DEL' 'BOM ? JDH ? JAI ? DEL ? HYD'\n",
            " 'DEL ? GWL ? IDR ? BOM ? COK' 'CCU ? RPR ? HYD ? BLR' 'CCU ? VTZ ? BLR'\n",
            " 'CCU ? DEL ? VGA ? BLR' 'BLR ? BOM ? IDR ? GWL ? DEL'\n",
            " 'CCU ? DEL ? COK ? TRV ? BLR' 'BOM ? COK ? MAA ? HYD' 'BOM ? NDC ? HYD'\n",
            " 'BLR ? BDQ ? DEL' 'CCU ? BOM ? TRV ? BLR' 'CCU ? BOM ? HBX ? BLR'\n",
            " 'BOM ? BDQ ? DEL ? HYD' 'BOM ? CCU ? HYD' 'BLR ? TRV ? COK ? DEL'\n",
            " 'BLR ? IDR ? DEL' 'CCU ? IXZ ? MAA ? BLR' 'CCU ? GAU ? IMF ? DEL ? BLR'\n",
            " 'BOM ? GOI ? PNQ ? HYD' 'BOM ? BLR ? CCU ? BBI ? HYD' 'BOM ? MAA ? HYD'\n",
            " 'BLR ? BOM ? UDR ? DEL' 'BOM ? UDR ? DEL ? HYD' 'BLR ? VGA ? VTZ ? DEL'\n",
            " 'BLR ? HBX ? BOM ? BHO ? DEL' 'CCU ? IXA ? BLR' 'BOM ? RPR ? VTZ ? HYD'\n",
            " 'BLR ? HBX ? BOM ? AMD ? DEL' 'BOM ? IDR ? DEL ? HYD' 'BOM ? BLR ? HYD'\n",
            " 'BLR ? STV ? DEL' 'CCU ? IXB ? DEL ? BLR' 'BOM ? JAI ? DEL ? HYD'\n",
            " 'BOM ? VNS ? DEL ? HYD' 'BLR ? HBX ? BOM ? NAG ? DEL' nan\n",
            " 'BLR ? BOM ? IXC ? DEL' 'BLR ? CCU ? BBI ? HYD ? VGA ? DEL'\n",
            " 'BOM ? BBI ? HYD']\n",
            "Dep_Time ['22:20' '05:50' '09:25' '18:05' '16:50' '09:00' '18:55' '08:00' '08:55'\n",
            " '11:25' '09:45' '20:20' '11:40' '21:10' '17:15' '16:40' '08:45' '14:00'\n",
            " '20:15' '16:00' '14:10' '22:00' '04:00' '21:25' '21:50' '07:00' '07:05'\n",
            " '09:50' '14:35' '10:35' '15:05' '14:15' '06:45' '20:55' '11:10' '05:45'\n",
            " '19:00' '23:05' '11:00' '09:35' '21:15' '23:55' '19:45' '08:50' '15:40'\n",
            " '06:05' '15:00' '13:55' '05:55' '13:20' '05:05' '06:25' '17:30' '08:20'\n",
            " '19:55' '06:30' '14:05' '02:00' '09:40' '08:25' '20:25' '13:15' '02:15'\n",
            " '16:55' '20:45' '05:15' '19:50' '20:00' '06:10' '19:30' '04:45' '12:55'\n",
            " '18:15' '17:20' '15:25' '23:00' '12:00' '14:45' '11:50' '11:30' '14:40'\n",
            " '19:10' '06:00' '23:30' '07:35' '13:05' '12:30' '15:10' '12:50' '18:25'\n",
            " '16:30' '00:40' '06:50' '13:00' '19:15' '01:30' '17:00' '10:00' '19:35'\n",
            " '15:30' '12:10' '16:10' '20:35' '22:25' '21:05' '05:35' '05:10' '06:40'\n",
            " '15:15' '00:30' '08:30' '07:10' '05:30' '14:25' '05:25' '10:20' '17:45'\n",
            " '13:10' '22:10' '04:55' '17:50' '21:20' '06:20' '15:55' '20:30' '17:25'\n",
            " '09:30' '07:30' '02:35' '10:55' '17:10' '09:10' '18:45' '15:20' '22:50'\n",
            " '14:55' '14:20' '13:25' '22:15' '11:05' '16:15' '20:10' '06:55' '19:05'\n",
            " '07:55' '07:45' '10:10' '08:15' '11:35' '21:00' '17:55' '16:45' '18:20'\n",
            " '03:50' '08:35' '19:20' '20:05' '17:40' '04:40' '17:35' '09:55' '05:00'\n",
            " '18:00' '02:55' '20:40' '22:55' '22:40' '21:30' '08:10' '17:05' '07:25'\n",
            " '15:45' '09:15' '15:50' '11:45' '22:05' '18:35' '00:25' '19:40' '20:50'\n",
            " '22:45' '10:30' '23:25' '11:55' '10:45' '11:15' '12:20' '14:30' '07:15'\n",
            " '01:35' '18:40' '09:20' '21:55' '13:50' '01:40' '00:20' '04:15' '13:45'\n",
            " '18:30' '06:15' '02:05' '12:15' '13:30' '06:35' '10:05' '08:40' '03:05'\n",
            " '21:35' '16:35' '02:30' '16:25' '05:40' '15:35' '13:40' '07:20' '04:50'\n",
            " '12:45' '10:25' '12:05' '11:20' '21:40' '03:00']\n",
            "Arrival_Time ['01:10 22 Mar' '13:15' '04:25 10 Jun' ... '06:50 10 Mar' '00:05 19 Mar'\n",
            " '21:20 13 Mar']\n",
            "Duration ['2h 50m' '7h 25m' '19h' '5h 25m' '4h 45m' '2h 25m' '15h 30m' '21h 5m'\n",
            " '25h 30m' '7h 50m' '13h 15m' '2h 35m' '2h 15m' '12h 10m' '26h 35m'\n",
            " '4h 30m' '22h 35m' '23h' '20h 35m' '5h 10m' '15h 20m' '2h 55m' '13h 20m'\n",
            " '15h 10m' '5h 45m' '5h 55m' '13h 25m' '22h' '5h 30m' '10h 25m' '5h 15m'\n",
            " '2h 30m' '6h 15m' '11h 55m' '11h 5m' '8h 30m' '22h 5m' '2h 45m' '12h'\n",
            " '16h 5m' '19h 55m' '3h 15m' '25h 20m' '3h' '16h 15m' '15h 5m' '6h 30m'\n",
            " '25h 5m' '12h 25m' '27h 20m' '10h 15m' '10h 30m' '1h 30m' '1h 25m'\n",
            " '26h 30m' '7h 20m' '13h 30m' '5h' '19h 5m' '14h 50m' '2h 40m' '22h 10m'\n",
            " '9h 35m' '10h' '21h 20m' '18h 45m' '12h 20m' '18h' '9h 15m' '17h 30m'\n",
            " '16h 35m' '12h 15m' '7h 30m' '24h' '8h 55m' '7h 10m' '14h 30m' '30h 20m'\n",
            " '15h' '12h 45m' '10h 10m' '15h 25m' '14h 5m' '20h 15m' '23h 10m'\n",
            " '18h 10m' '16h' '2h 20m' '8h' '16h 55m' '3h 10m' '14h' '23h 50m'\n",
            " '21h 40m' '21h 15m' '10h 50m' '8h 15m' '8h 35m' '11h 50m' '27h 35m'\n",
            " '8h 25m' '20h 55m' '4h 50m' '8h 10m' '24h 25m' '23h 35m' '25h 45m'\n",
            " '26h 10m' '28h 50m' '25h 15m' '9h 20m' '9h 10m' '3h 5m' '11h 30m'\n",
            " '9h 30m' '17h 35m' '5h 5m' '25h 50m' '20h' '13h' '18h 25m' '24h 10m'\n",
            " '4h 55m' '25h 35m' '6h 20m' '18h 40m' '19h 25m' '29h 20m' '9h 5m'\n",
            " '10h 45m' '11h 40m' '22h 55m' '37h 25m' '25h 40m' '13h 55m' '8h 40m'\n",
            " '23h 30m' '12h 35m' '24h 15m' '1h 20m' '11h' '11h 15m' '14h 35m'\n",
            " '12h 55m' '9h' '7h 40m' '11h 45m' '24h 55m' '17h 5m' '29h 55m' '22h 15m'\n",
            " '14h 40m' '7h 15m' '20h 10m' '20h 45m' '27h' '24h 30m' '20h 25m' '5h 35m'\n",
            " '14h 45m' '5h 40m' '4h 5m' '15h 55m' '7h 45m' '28h 20m' '4h 20m' '3h 40m'\n",
            " '8h 50m' '23h 45m' '24h 45m' '21h 35m' '8h 5m' '6h 25m' '15h 50m'\n",
            " '26h 25m' '24h 50m' '26h' '23h 5m' '7h 55m' '26h 20m' '23h 15m' '5h 20m'\n",
            " '4h' '9h 45m' '8h 20m' '17h 25m' '7h 5m' '34h 5m' '6h 5m' '5h 50m' '7h'\n",
            " '4h 25m' '13h 45m' '19h 15m' '22h 30m' '16h 25m' '13h 50m' '27h 5m'\n",
            " '28h 10m' '4h 40m' '15h 40m' '4h 35m' '18h 30m' '38h 15m' '6h 35m'\n",
            " '12h 30m' '11h 20m' '7h 35m' '29h 35m' '26h 55m' '23h 40m' '12h 50m'\n",
            " '9h 50m' '21h 55m' '10h 55m' '21h 10m' '20h 40m' '30h' '13h 10m' '8h 45m'\n",
            " '6h 10m' '17h 45m' '21h 45m' '3h 55m' '17h 20m' '30h 30m' '21h 25m'\n",
            " '12h 40m' '24h 35m' '19h 10m' '22h 40m' '14h 55m' '21h' '6h 45m'\n",
            " '28h 40m' '9h 40m' '16h 40m' '16h 20m' '16h 45m' '1h 15m' '6h 55m'\n",
            " '11h 25m' '14h 20m' '12h 5m' '24h 5m' '28h 15m' '17h 50m' '20h 20m'\n",
            " '28h 5m' '10h 20m' '14h 15m' '35h 15m' '35h 35m' '26h 40m' '28h'\n",
            " '14h 25m' '13h 5m' '37h 20m' '36h 10m' '25h 55m' '35h 5m' '19h 45m'\n",
            " '27h 55m' '47h' '10h 35m' '1h 35m' '16h 10m' '38h 20m' '6h' '16h 50m'\n",
            " '14h 10m' '23h 20m' '17h 40m' '11h 35m' '18h 20m' '6h 40m' '30h 55m'\n",
            " '24h 40m' '29h 50m' '28h 25m' '17h 15m' '22h 45m' '25h 25m' '21h 50m'\n",
            " '33h 15m' '30h 15m' '3h 35m' '27h 40m' '30h 25m' '18h 50m' '27h 45m'\n",
            " '15h 15m' '10h 40m' '26h 15m' '36h 25m' '26h 50m' '15h 45m' '19h 40m'\n",
            " '22h 25m' '19h 35m' '25h' '26h 45m' '38h' '4h 15m' '25h 10m' '18h 15m'\n",
            " '6h 50m' '23h 55m' '17h 55m' '23h 25m' '17h 10m' '24h 20m' '28h 30m'\n",
            " '27h 10m' '19h 20m' '15h 35m' '9h 25m' '21h 30m' '34h 25m' '18h 35m'\n",
            " '29h 40m' '26h 5m' '29h 5m' '27h 25m' '16h 30m' '11h 10m' '28h 55m'\n",
            " '29h 10m' '34h' '30h 40m' '30h 45m' '32h 55m' '10h 5m' '35h 20m' '32h 5m'\n",
            " '31h 40m' '19h 50m' '33h 45m' '30h 10m' '13h 40m' '19h 30m' '31h 30m'\n",
            " '34h 30m' '27h 50m' '38h 35m' '42h 5m' '4h 10m' '39h 5m' '3h 50m' '5m'\n",
            " '32h 30m' '31h 55m' '33h 20m' '27h 30m' '18h 55m' '9h 55m' '41h 20m'\n",
            " '20h 5m' '31h 50m' '42h 45m' '3h 25m' '37h 10m' '29h 30m' '32h 20m'\n",
            " '20h 50m' '40h 20m' '13h 35m' '47h 40m']\n",
            "Total_Stops ['non-stop' '2 stops' '1 stop' '3 stops' nan '4 stops']\n",
            "Additional_Info ['No info' 'In-flight meal not included' 'No check-in baggage included'\n",
            " '1 Short layover' 'No Info' '1 Long layover' 'Change airports'\n",
            " 'Business class' 'Red-eye flight' '2 Long layover']\n"
          ]
        }
      ]
    },
    {
      "cell_type": "code",
      "source": [
        "data = data.rename(columns={'Date_of_Journey': 'Data_of_Journey'})\n",
        "data.Data_of_Journey = data.Data_of_Journey.str.split('/')"
      ],
      "metadata": {
        "id": "rk6Ekn9JgBJI"
      },
      "execution_count": 212,
      "outputs": []
    },
    {
      "cell_type": "code",
      "source": [
        "data.columns"
      ],
      "metadata": {
        "colab": {
          "base_uri": "https://localhost:8080/"
        },
        "id": "RaaZ_HLllBBF",
        "outputId": "91a86cad-a076-4625-86e4-746f9b4faa85"
      },
      "execution_count": 213,
      "outputs": [
        {
          "output_type": "execute_result",
          "data": {
            "text/plain": [
              "Index(['Airline', 'Data_of_Journey', 'Source', 'Destination', 'Route',\n",
              "       'Dep_Time', 'Arrival_Time', 'Duration', 'Total_Stops',\n",
              "       'Additional_Info', 'Price'],\n",
              "      dtype='object')"
            ]
          },
          "metadata": {},
          "execution_count": 213
        }
      ]
    },
    {
      "cell_type": "code",
      "source": [
        "data['Data_of_Journey']"
      ],
      "metadata": {
        "colab": {
          "base_uri": "https://localhost:8080/"
        },
        "id": "visgrf58nqRm",
        "outputId": "df03aac5-9019-4576-d66e-78216cb9ed55"
      },
      "execution_count": 214,
      "outputs": [
        {
          "output_type": "execute_result",
          "data": {
            "text/plain": [
              "0        [24, 03, 2019]\n",
              "1         [1, 05, 2019]\n",
              "2         [9, 06, 2019]\n",
              "3        [12, 05, 2019]\n",
              "4        [01, 03, 2019]\n",
              "              ...      \n",
              "10678     [9, 04, 2019]\n",
              "10679    [27, 04, 2019]\n",
              "10680    [27, 04, 2019]\n",
              "10681    [01, 03, 2019]\n",
              "10682     [9, 05, 2019]\n",
              "Name: Data_of_Journey, Length: 10683, dtype: object"
            ]
          },
          "metadata": {},
          "execution_count": 214
        }
      ]
    },
    {
      "cell_type": "code",
      "source": [
        "data['Date']=data['Data_of_Journey'].str[0]\n",
        "data['Month']=data['Data_of_Journey'].str[1]\n",
        "data['Year']=data['Data_of_Journey'].str[2]"
      ],
      "metadata": {
        "id": "fb5Ix2hKlywu"
      },
      "execution_count": 215,
      "outputs": []
    },
    {
      "cell_type": "code",
      "source": [
        "data.Total_Stops.unique()"
      ],
      "metadata": {
        "colab": {
          "base_uri": "https://localhost:8080/"
        },
        "id": "nO9-xVYEmip-",
        "outputId": "a66c64fb-aabd-448b-c0c1-3d92594bdad3"
      },
      "execution_count": 216,
      "outputs": [
        {
          "output_type": "execute_result",
          "data": {
            "text/plain": [
              "array(['non-stop', '2 stops', '1 stop', '3 stops', nan, '4 stops'],\n",
              "      dtype=object)"
            ]
          },
          "metadata": {},
          "execution_count": 216
        }
      ]
    },
    {
      "cell_type": "code",
      "source": [
        "data.Route=data.Route.str.split('->')"
      ],
      "metadata": {
        "id": "RAK_PnlxmvxY"
      },
      "execution_count": 217,
      "outputs": []
    },
    {
      "cell_type": "code",
      "source": [
        "data['City1']=data.Route.str[0]\n",
        "data['City2']=data.Route.str[1]\n",
        "data['City3']=data.Route.str[2]\n",
        "data['City4']=data.Route.str[3]\n",
        "data['City5']=data.Route.str[4]\n",
        "data['City6']=data.Route.str[5]"
      ],
      "metadata": {
        "id": "yvh6P3ZKnCU8"
      },
      "execution_count": 218,
      "outputs": []
    },
    {
      "cell_type": "code",
      "source": [
        "data.Dep_Time=data.Dep_Time.str.split(':')"
      ],
      "metadata": {
        "id": "GnSvtpbSneJV"
      },
      "execution_count": 219,
      "outputs": []
    },
    {
      "cell_type": "code",
      "source": [
        "data['Dep_Time_Hour']=data.Dep_Time.str[0]\n",
        "data['Dep_Time_Mins']=data.Dep_Time.str[1]"
      ],
      "metadata": {
        "id": "WaMg5-65nxyZ"
      },
      "execution_count": 220,
      "outputs": []
    },
    {
      "cell_type": "code",
      "source": [
        "data.Arrival_Time=data.Arrival_Time.str.split('')"
      ],
      "metadata": {
        "id": "JlobZDW3oIqN"
      },
      "execution_count": 221,
      "outputs": []
    },
    {
      "cell_type": "code",
      "source": [
        "data['Arrival_date']=data.Arrival_Time.str[1]\n",
        "data['Time_of_Arrival']=data.Arrival_Time.str[0]"
      ],
      "metadata": {
        "id": "F1pNhi3rocZO"
      },
      "execution_count": 222,
      "outputs": []
    },
    {
      "cell_type": "code",
      "source": [
        "data['Time_of_Arrival']=data.Time_of_Arrival.str.split(':')"
      ],
      "metadata": {
        "id": "g6mrjYXjpCBH"
      },
      "execution_count": 223,
      "outputs": []
    },
    {
      "cell_type": "code",
      "source": [
        "data['Arrival_Time_Hour']=data.Time_of_Arrival.str[0]\n",
        "data['Arrival_Time_Mins']=data.Time_of_Arrival.str[1]"
      ],
      "metadata": {
        "id": "VW8Ya-7jpW18"
      },
      "execution_count": 224,
      "outputs": []
    },
    {
      "cell_type": "code",
      "source": [
        "data.Duration=data.Duration.str.split(' ')"
      ],
      "metadata": {
        "id": "QJ9eIECCp0cf"
      },
      "execution_count": 225,
      "outputs": []
    },
    {
      "cell_type": "code",
      "source": [
        "data['Travel_Hours']=data.Duration.str[0]\n",
        "data['Travel_Hours']=data['Travel_Hours'].str.split('h')\n",
        "data['Travel_Hours']=data['Travel_Hours'].str[0]\n",
        "data.Travel_Hours=data.Travel_Hours\n",
        "data[\"Travel_Mins\"]=data.Duration.str[1]\n",
        "\n",
        "data.Travel_Mins=data.Travel_Mins.str.split('a') \n",
        "data.Travel_Mins=data.Travel_Mins.str[0]"
      ],
      "metadata": {
        "id": "uC69nxlXqvT8"
      },
      "execution_count": 226,
      "outputs": []
    },
    {
      "cell_type": "code",
      "source": [
        "data.Total_Stops.replace('non_stop',0,inplace=True)\n",
        "data.Total_Stops=data.Total_Stops.str.split(' ')\n",
        "data.Total_Stops=data.Total_Stops.str[0]"
      ],
      "metadata": {
        "id": "etSvV4dWrqe0"
      },
      "execution_count": 227,
      "outputs": []
    },
    {
      "cell_type": "code",
      "source": [
        "data.Additional_Info.unique()"
      ],
      "metadata": {
        "colab": {
          "base_uri": "https://localhost:8080/"
        },
        "id": "J-3ZSdeTsLKu",
        "outputId": "90a720d3-3930-484a-9de6-ca6097d6539c"
      },
      "execution_count": 228,
      "outputs": [
        {
          "output_type": "execute_result",
          "data": {
            "text/plain": [
              "array(['No info', 'In-flight meal not included',\n",
              "       'No check-in baggage included', '1 Short layover', 'No Info',\n",
              "       '1 Long layover', 'Change airports', 'Business class',\n",
              "       'Red-eye flight', '2 Long layover'], dtype=object)"
            ]
          },
          "metadata": {},
          "execution_count": 228
        }
      ]
    },
    {
      "cell_type": "code",
      "source": [
        "data.Additional_Info.replace('No Info','No info',inplace=True)\n"
      ],
      "metadata": {
        "id": "aYx2_1wgskd7"
      },
      "execution_count": 229,
      "outputs": []
    },
    {
      "cell_type": "code",
      "source": [
        "data.isnull().sum()"
      ],
      "metadata": {
        "colab": {
          "base_uri": "https://localhost:8080/"
        },
        "id": "RWilc5T_s9Lj",
        "outputId": "ccb3993e-fa79-4df3-de6c-3cb14aea98ed"
      },
      "execution_count": 230,
      "outputs": [
        {
          "output_type": "execute_result",
          "data": {
            "text/plain": [
              "Airline                  0\n",
              "Data_of_Journey          0\n",
              "Source                   0\n",
              "Destination              0\n",
              "Route                    1\n",
              "Dep_Time                 0\n",
              "Arrival_Time             0\n",
              "Duration                 0\n",
              "Total_Stops              1\n",
              "Additional_Info          0\n",
              "Price                    0\n",
              "Date                     0\n",
              "Month                    0\n",
              "Year                     0\n",
              "City1                    1\n",
              "City2                10683\n",
              "City3                10683\n",
              "City4                10683\n",
              "City5                10683\n",
              "City6                10683\n",
              "Dep_Time_Hour            0\n",
              "Dep_Time_Mins            0\n",
              "Arrival_date             0\n",
              "Time_of_Arrival          0\n",
              "Arrival_Time_Hour        0\n",
              "Arrival_Time_Mins    10683\n",
              "Travel_Hours             0\n",
              "Travel_Mins           1032\n",
              "dtype: int64"
            ]
          },
          "metadata": {},
          "execution_count": 230
        }
      ]
    },
    {
      "cell_type": "code",
      "source": [
        "data.drop(['City4','City5','City6'],axis=1,inplace=True)"
      ],
      "metadata": {
        "id": "N-Kbh4qmtWKX"
      },
      "execution_count": 231,
      "outputs": []
    },
    {
      "cell_type": "code",
      "source": [
        "# Check if the columns exist in the dataframe\n",
        "print(data.columns)\n",
        "\n",
        "# Remove any columns that are not present in the dataframe\n",
        "columns_to_drop = ['Date_of_Journey', 'Route', 'Dep_Time', 'Arrival_Time', 'Duration']\n",
        "columns_to_drop = [col for col in columns_to_drop if col in data.columns]\n",
        "\n",
        "# Drop the columns from the dataframe\n",
        "data.drop(columns_to_drop, axis=1, inplace=True)\n",
        "\n",
        "# Check the updated dataframe\n",
        "print(data.head())\n",
        "\n"
      ],
      "metadata": {
        "colab": {
          "base_uri": "https://localhost:8080/"
        },
        "id": "qwasqCh3ueHf",
        "outputId": "a6436508-5bc5-4fb8-e469-9e1fe5c16919"
      },
      "execution_count": 232,
      "outputs": [
        {
          "output_type": "stream",
          "name": "stdout",
          "text": [
            "Index(['Airline', 'Data_of_Journey', 'Source', 'Destination', 'Route',\n",
            "       'Dep_Time', 'Arrival_Time', 'Duration', 'Total_Stops',\n",
            "       'Additional_Info', 'Price', 'Date', 'Month', 'Year', 'City1', 'City2',\n",
            "       'City3', 'Dep_Time_Hour', 'Dep_Time_Mins', 'Arrival_date',\n",
            "       'Time_of_Arrival', 'Arrival_Time_Hour', 'Arrival_Time_Mins',\n",
            "       'Travel_Hours', 'Travel_Mins'],\n",
            "      dtype='object')\n",
            "       Airline Data_of_Journey    Source Destination Total_Stops  \\\n",
            "0       IndiGo  [24, 03, 2019]  Banglore   New Delhi    non-stop   \n",
            "1    Air India   [1, 05, 2019]   Kolkata    Banglore           2   \n",
            "2  Jet Airways   [9, 06, 2019]     Delhi      Cochin           2   \n",
            "3       IndiGo  [12, 05, 2019]   Kolkata    Banglore           1   \n",
            "4       IndiGo  [01, 03, 2019]  Banglore   New Delhi           1   \n",
            "\n",
            "  Additional_Info  Price Date Month  Year  ... City2  City3  Dep_Time_Hour  \\\n",
            "0         No info   3897   24    03  2019  ...   NaN    NaN             22   \n",
            "1         No info   7662    1    05  2019  ...   NaN    NaN             05   \n",
            "2         No info  13882    9    06  2019  ...   NaN    NaN             09   \n",
            "3         No info   6218   12    05  2019  ...   NaN    NaN             18   \n",
            "4         No info  13302   01    03  2019  ...   NaN    NaN             16   \n",
            "\n",
            "  Dep_Time_Mins Arrival_date Time_of_Arrival Arrival_Time_Hour  \\\n",
            "0            20            0              []                     \n",
            "1            50            1              []                     \n",
            "2            25            0              []                     \n",
            "3            05            2              []                     \n",
            "4            50            2              []                     \n",
            "\n",
            "  Arrival_Time_Mins  Travel_Hours Travel_Mins  \n",
            "0               NaN             2         50m  \n",
            "1               NaN             7         25m  \n",
            "2               NaN            19         NaN  \n",
            "3               NaN             5         25m  \n",
            "4               NaN             4         45m  \n",
            "\n",
            "[5 rows x 21 columns]\n"
          ]
        }
      ]
    },
    {
      "cell_type": "code",
      "source": [
        "data.isnull().sum()"
      ],
      "metadata": {
        "colab": {
          "base_uri": "https://localhost:8080/"
        },
        "id": "RPfKq1t_xeI_",
        "outputId": "95029967-0d9e-403e-b0f6-749feb918396"
      },
      "execution_count": 233,
      "outputs": [
        {
          "output_type": "execute_result",
          "data": {
            "text/plain": [
              "Airline                  0\n",
              "Data_of_Journey          0\n",
              "Source                   0\n",
              "Destination              0\n",
              "Total_Stops              1\n",
              "Additional_Info          0\n",
              "Price                    0\n",
              "Date                     0\n",
              "Month                    0\n",
              "Year                     0\n",
              "City1                    1\n",
              "City2                10683\n",
              "City3                10683\n",
              "Dep_Time_Hour            0\n",
              "Dep_Time_Mins            0\n",
              "Arrival_date             0\n",
              "Time_of_Arrival          0\n",
              "Arrival_Time_Hour        0\n",
              "Arrival_Time_Mins    10683\n",
              "Travel_Hours             0\n",
              "Travel_Mins           1032\n",
              "dtype: int64"
            ]
          },
          "metadata": {},
          "execution_count": 233
        }
      ]
    },
    {
      "cell_type": "code",
      "source": [
        "data['City3'].fillna('None',inplace=True)"
      ],
      "metadata": {
        "id": "aTTgvtMYx2Av"
      },
      "execution_count": 234,
      "outputs": []
    },
    {
      "cell_type": "code",
      "source": [
        "data['Arrival_date'].fillna('None',inplace=True)"
      ],
      "metadata": {
        "id": "N6MFjly_yNC-"
      },
      "execution_count": 235,
      "outputs": []
    },
    {
      "cell_type": "code",
      "source": [
        "data['Travel_Mins'].fillna('None',inplace=True)"
      ],
      "metadata": {
        "id": "X8xUbyiCy3eF"
      },
      "execution_count": 236,
      "outputs": []
    },
    {
      "cell_type": "code",
      "source": [
        "data.info()"
      ],
      "metadata": {
        "colab": {
          "base_uri": "https://localhost:8080/"
        },
        "id": "jlMjpCc5zDHC",
        "outputId": "eb18d7c9-c0dc-48ee-8abf-7752d9b9742b"
      },
      "execution_count": 237,
      "outputs": [
        {
          "output_type": "stream",
          "name": "stdout",
          "text": [
            "<class 'pandas.core.frame.DataFrame'>\n",
            "RangeIndex: 10683 entries, 0 to 10682\n",
            "Data columns (total 21 columns):\n",
            " #   Column             Non-Null Count  Dtype  \n",
            "---  ------             --------------  -----  \n",
            " 0   Airline            10683 non-null  object \n",
            " 1   Data_of_Journey    10683 non-null  object \n",
            " 2   Source             10683 non-null  object \n",
            " 3   Destination        10683 non-null  object \n",
            " 4   Total_Stops        10682 non-null  object \n",
            " 5   Additional_Info    10683 non-null  object \n",
            " 6   Price              10683 non-null  int64  \n",
            " 7   Date               10683 non-null  object \n",
            " 8   Month              10683 non-null  object \n",
            " 9   Year               10683 non-null  object \n",
            " 10  City1              10682 non-null  object \n",
            " 11  City2              0 non-null      float64\n",
            " 12  City3              10683 non-null  object \n",
            " 13  Dep_Time_Hour      10683 non-null  object \n",
            " 14  Dep_Time_Mins      10683 non-null  object \n",
            " 15  Arrival_date       10683 non-null  object \n",
            " 16  Time_of_Arrival    10683 non-null  object \n",
            " 17  Arrival_Time_Hour  10683 non-null  object \n",
            " 18  Arrival_Time_Mins  0 non-null      float64\n",
            " 19  Travel_Hours       10683 non-null  object \n",
            " 20  Travel_Mins        10683 non-null  object \n",
            "dtypes: float64(2), int64(1), object(18)\n",
            "memory usage: 1.7+ MB\n"
          ]
        }
      ]
    },
    {
      "cell_type": "code",
      "source": [
        "data['Travel_Mins'] = data['Travel_Mins'].str.rstrip('m')  # remove 'm' character from the end of each string\n",
        "data['Travel_Mins'] = data['Travel_Mins'].replace('None', '-1')  # replace 'None' values with -1\n",
        "data['Travel_Mins'] = data['Travel_Mins'].astype('int64')   # convert to int64 datatype\n"
      ],
      "metadata": {
        "id": "KhKGFE6tPhlD"
      },
      "execution_count": 238,
      "outputs": []
    },
    {
      "cell_type": "code",
      "source": [
        "#data['Total_Stops'] = data['Total_Stops'].astype('int64')\n",
        "data['Date'] = data['Date'].astype('int64')\n",
        "data['Month'] = data['Month'].astype('int64')\n",
        "data['Year'] = data['Year'].astype('int64')\n",
        "data['Dep_Time_Hour'] = data['Dep_Time_Hour'].astype('int64')\n",
        "data['Dep_Time_Mins'] = data['Dep_Time_Mins'].astype('int64')\n",
        "data['Arrival_date'] = data['Arrival_date'].astype('int64')\n",
        "data['Arrival_Time_Mins'] = data['Arrival_Time_Mins'].fillna(-1).astype('int64')\n",
        "#data['Travel_Hours'] = data['Travel_Hours'].astype('int64')\n",
        "data['Travel_Mins'] = data['Travel_Mins'].astype('int64')\n"
      ],
      "metadata": {
        "id": "KzXbr_djLhw1"
      },
      "execution_count": 239,
      "outputs": []
    },
    {
      "cell_type": "code",
      "source": [
        "data[data['Travel_Hours']=='5']"
      ],
      "metadata": {
        "colab": {
          "base_uri": "https://localhost:8080/",
          "height": 522
        },
        "id": "cz-PLXWxQeZZ",
        "outputId": "4623b0a8-6c58-4ef7-b405-87bb1fcdd238"
      },
      "execution_count": 240,
      "outputs": [
        {
          "output_type": "execute_result",
          "data": {
            "text/plain": [
              "           Airline Data_of_Journey   Source Destination Total_Stops  \\\n",
              "3           IndiGo  [12, 05, 2019]  Kolkata    Banglore           1   \n",
              "20           GoAir   [6, 03, 2019]    Delhi      Cochin           1   \n",
              "26          IndiGo   [1, 06, 2019]    Delhi      Cochin           1   \n",
              "27           GoAir  [15, 05, 2019]    Delhi      Cochin           1   \n",
              "34     Jet Airways  [18, 05, 2019]    Delhi      Cochin           1   \n",
              "...            ...             ...      ...         ...         ...   \n",
              "10603       IndiGo   [9, 06, 2019]    Delhi      Cochin           1   \n",
              "10619       IndiGo  [27, 04, 2019]    Delhi      Cochin           1   \n",
              "10628     SpiceJet   [9, 05, 2019]  Kolkata    Banglore           1   \n",
              "10631       IndiGo  [15, 05, 2019]    Delhi      Cochin           1   \n",
              "10636  Jet Airways  [15, 05, 2019]  Kolkata    Banglore           1   \n",
              "\n",
              "                   Additional_Info  Price  Date  Month  Year  ... City2  \\\n",
              "3                          No info   6218    12      5  2019  ...   NaN   \n",
              "20                         No info  19495     6      3  2019  ...   NaN   \n",
              "26                         No info   8238     1      6  2019  ...   NaN   \n",
              "27                         No info   7682    15      5  2019  ...   NaN   \n",
              "34     In-flight meal not included  12373    18      5  2019  ...   NaN   \n",
              "...                            ...    ...   ...    ...   ...  ...   ...   \n",
              "10603                      No info   5636     9      6  2019  ...   NaN   \n",
              "10619                      No info   6307    27      4  2019  ...   NaN   \n",
              "10628                      No info   8224     9      5  2019  ...   NaN   \n",
              "10631                      No info   6037    15      5  2019  ...   NaN   \n",
              "10636                      No info  14388    15      5  2019  ...   NaN   \n",
              "\n",
              "       City3 Dep_Time_Hour  Dep_Time_Mins  Arrival_date  Time_of_Arrival  \\\n",
              "3       None            18              5             2               []   \n",
              "20      None            14             10             1               []   \n",
              "26      None            21             50             0               []   \n",
              "27      None             7              0             1               []   \n",
              "34      None             7              5             1               []   \n",
              "...      ...           ...            ...           ...              ...   \n",
              "10603   None             2              0             0               []   \n",
              "10619   None            21             50             0               []   \n",
              "10628   None            15             55             2               []   \n",
              "10631   None             2              0             0               []   \n",
              "10636   None             6             30             1               []   \n",
              "\n",
              "      Arrival_Time_Hour Arrival_Time_Mins  Travel_Hours Travel_Mins  \n",
              "3                                      -1             5          25  \n",
              "20                                     -1             5          10  \n",
              "26                                     -1             5          45  \n",
              "27                                     -1             5          55  \n",
              "34                                     -1             5          30  \n",
              "...                 ...               ...           ...         ...  \n",
              "10603                                  -1             5          25  \n",
              "10619                                  -1             5          45  \n",
              "10628                                  -1             5          30  \n",
              "10631                                  -1             5          45  \n",
              "10636                                  -1             5          30  \n",
              "\n",
              "[481 rows x 21 columns]"
            ],
            "text/html": [
              "\n",
              "  <div id=\"df-5303fd4c-f9f0-4444-9162-c82e4237dd60\">\n",
              "    <div class=\"colab-df-container\">\n",
              "      <div>\n",
              "<style scoped>\n",
              "    .dataframe tbody tr th:only-of-type {\n",
              "        vertical-align: middle;\n",
              "    }\n",
              "\n",
              "    .dataframe tbody tr th {\n",
              "        vertical-align: top;\n",
              "    }\n",
              "\n",
              "    .dataframe thead th {\n",
              "        text-align: right;\n",
              "    }\n",
              "</style>\n",
              "<table border=\"1\" class=\"dataframe\">\n",
              "  <thead>\n",
              "    <tr style=\"text-align: right;\">\n",
              "      <th></th>\n",
              "      <th>Airline</th>\n",
              "      <th>Data_of_Journey</th>\n",
              "      <th>Source</th>\n",
              "      <th>Destination</th>\n",
              "      <th>Total_Stops</th>\n",
              "      <th>Additional_Info</th>\n",
              "      <th>Price</th>\n",
              "      <th>Date</th>\n",
              "      <th>Month</th>\n",
              "      <th>Year</th>\n",
              "      <th>...</th>\n",
              "      <th>City2</th>\n",
              "      <th>City3</th>\n",
              "      <th>Dep_Time_Hour</th>\n",
              "      <th>Dep_Time_Mins</th>\n",
              "      <th>Arrival_date</th>\n",
              "      <th>Time_of_Arrival</th>\n",
              "      <th>Arrival_Time_Hour</th>\n",
              "      <th>Arrival_Time_Mins</th>\n",
              "      <th>Travel_Hours</th>\n",
              "      <th>Travel_Mins</th>\n",
              "    </tr>\n",
              "  </thead>\n",
              "  <tbody>\n",
              "    <tr>\n",
              "      <th>3</th>\n",
              "      <td>IndiGo</td>\n",
              "      <td>[12, 05, 2019]</td>\n",
              "      <td>Kolkata</td>\n",
              "      <td>Banglore</td>\n",
              "      <td>1</td>\n",
              "      <td>No info</td>\n",
              "      <td>6218</td>\n",
              "      <td>12</td>\n",
              "      <td>5</td>\n",
              "      <td>2019</td>\n",
              "      <td>...</td>\n",
              "      <td>NaN</td>\n",
              "      <td>None</td>\n",
              "      <td>18</td>\n",
              "      <td>5</td>\n",
              "      <td>2</td>\n",
              "      <td>[]</td>\n",
              "      <td></td>\n",
              "      <td>-1</td>\n",
              "      <td>5</td>\n",
              "      <td>25</td>\n",
              "    </tr>\n",
              "    <tr>\n",
              "      <th>20</th>\n",
              "      <td>GoAir</td>\n",
              "      <td>[6, 03, 2019]</td>\n",
              "      <td>Delhi</td>\n",
              "      <td>Cochin</td>\n",
              "      <td>1</td>\n",
              "      <td>No info</td>\n",
              "      <td>19495</td>\n",
              "      <td>6</td>\n",
              "      <td>3</td>\n",
              "      <td>2019</td>\n",
              "      <td>...</td>\n",
              "      <td>NaN</td>\n",
              "      <td>None</td>\n",
              "      <td>14</td>\n",
              "      <td>10</td>\n",
              "      <td>1</td>\n",
              "      <td>[]</td>\n",
              "      <td></td>\n",
              "      <td>-1</td>\n",
              "      <td>5</td>\n",
              "      <td>10</td>\n",
              "    </tr>\n",
              "    <tr>\n",
              "      <th>26</th>\n",
              "      <td>IndiGo</td>\n",
              "      <td>[1, 06, 2019]</td>\n",
              "      <td>Delhi</td>\n",
              "      <td>Cochin</td>\n",
              "      <td>1</td>\n",
              "      <td>No info</td>\n",
              "      <td>8238</td>\n",
              "      <td>1</td>\n",
              "      <td>6</td>\n",
              "      <td>2019</td>\n",
              "      <td>...</td>\n",
              "      <td>NaN</td>\n",
              "      <td>None</td>\n",
              "      <td>21</td>\n",
              "      <td>50</td>\n",
              "      <td>0</td>\n",
              "      <td>[]</td>\n",
              "      <td></td>\n",
              "      <td>-1</td>\n",
              "      <td>5</td>\n",
              "      <td>45</td>\n",
              "    </tr>\n",
              "    <tr>\n",
              "      <th>27</th>\n",
              "      <td>GoAir</td>\n",
              "      <td>[15, 05, 2019]</td>\n",
              "      <td>Delhi</td>\n",
              "      <td>Cochin</td>\n",
              "      <td>1</td>\n",
              "      <td>No info</td>\n",
              "      <td>7682</td>\n",
              "      <td>15</td>\n",
              "      <td>5</td>\n",
              "      <td>2019</td>\n",
              "      <td>...</td>\n",
              "      <td>NaN</td>\n",
              "      <td>None</td>\n",
              "      <td>7</td>\n",
              "      <td>0</td>\n",
              "      <td>1</td>\n",
              "      <td>[]</td>\n",
              "      <td></td>\n",
              "      <td>-1</td>\n",
              "      <td>5</td>\n",
              "      <td>55</td>\n",
              "    </tr>\n",
              "    <tr>\n",
              "      <th>34</th>\n",
              "      <td>Jet Airways</td>\n",
              "      <td>[18, 05, 2019]</td>\n",
              "      <td>Delhi</td>\n",
              "      <td>Cochin</td>\n",
              "      <td>1</td>\n",
              "      <td>In-flight meal not included</td>\n",
              "      <td>12373</td>\n",
              "      <td>18</td>\n",
              "      <td>5</td>\n",
              "      <td>2019</td>\n",
              "      <td>...</td>\n",
              "      <td>NaN</td>\n",
              "      <td>None</td>\n",
              "      <td>7</td>\n",
              "      <td>5</td>\n",
              "      <td>1</td>\n",
              "      <td>[]</td>\n",
              "      <td></td>\n",
              "      <td>-1</td>\n",
              "      <td>5</td>\n",
              "      <td>30</td>\n",
              "    </tr>\n",
              "    <tr>\n",
              "      <th>...</th>\n",
              "      <td>...</td>\n",
              "      <td>...</td>\n",
              "      <td>...</td>\n",
              "      <td>...</td>\n",
              "      <td>...</td>\n",
              "      <td>...</td>\n",
              "      <td>...</td>\n",
              "      <td>...</td>\n",
              "      <td>...</td>\n",
              "      <td>...</td>\n",
              "      <td>...</td>\n",
              "      <td>...</td>\n",
              "      <td>...</td>\n",
              "      <td>...</td>\n",
              "      <td>...</td>\n",
              "      <td>...</td>\n",
              "      <td>...</td>\n",
              "      <td>...</td>\n",
              "      <td>...</td>\n",
              "      <td>...</td>\n",
              "      <td>...</td>\n",
              "    </tr>\n",
              "    <tr>\n",
              "      <th>10603</th>\n",
              "      <td>IndiGo</td>\n",
              "      <td>[9, 06, 2019]</td>\n",
              "      <td>Delhi</td>\n",
              "      <td>Cochin</td>\n",
              "      <td>1</td>\n",
              "      <td>No info</td>\n",
              "      <td>5636</td>\n",
              "      <td>9</td>\n",
              "      <td>6</td>\n",
              "      <td>2019</td>\n",
              "      <td>...</td>\n",
              "      <td>NaN</td>\n",
              "      <td>None</td>\n",
              "      <td>2</td>\n",
              "      <td>0</td>\n",
              "      <td>0</td>\n",
              "      <td>[]</td>\n",
              "      <td></td>\n",
              "      <td>-1</td>\n",
              "      <td>5</td>\n",
              "      <td>25</td>\n",
              "    </tr>\n",
              "    <tr>\n",
              "      <th>10619</th>\n",
              "      <td>IndiGo</td>\n",
              "      <td>[27, 04, 2019]</td>\n",
              "      <td>Delhi</td>\n",
              "      <td>Cochin</td>\n",
              "      <td>1</td>\n",
              "      <td>No info</td>\n",
              "      <td>6307</td>\n",
              "      <td>27</td>\n",
              "      <td>4</td>\n",
              "      <td>2019</td>\n",
              "      <td>...</td>\n",
              "      <td>NaN</td>\n",
              "      <td>None</td>\n",
              "      <td>21</td>\n",
              "      <td>50</td>\n",
              "      <td>0</td>\n",
              "      <td>[]</td>\n",
              "      <td></td>\n",
              "      <td>-1</td>\n",
              "      <td>5</td>\n",
              "      <td>45</td>\n",
              "    </tr>\n",
              "    <tr>\n",
              "      <th>10628</th>\n",
              "      <td>SpiceJet</td>\n",
              "      <td>[9, 05, 2019]</td>\n",
              "      <td>Kolkata</td>\n",
              "      <td>Banglore</td>\n",
              "      <td>1</td>\n",
              "      <td>No info</td>\n",
              "      <td>8224</td>\n",
              "      <td>9</td>\n",
              "      <td>5</td>\n",
              "      <td>2019</td>\n",
              "      <td>...</td>\n",
              "      <td>NaN</td>\n",
              "      <td>None</td>\n",
              "      <td>15</td>\n",
              "      <td>55</td>\n",
              "      <td>2</td>\n",
              "      <td>[]</td>\n",
              "      <td></td>\n",
              "      <td>-1</td>\n",
              "      <td>5</td>\n",
              "      <td>30</td>\n",
              "    </tr>\n",
              "    <tr>\n",
              "      <th>10631</th>\n",
              "      <td>IndiGo</td>\n",
              "      <td>[15, 05, 2019]</td>\n",
              "      <td>Delhi</td>\n",
              "      <td>Cochin</td>\n",
              "      <td>1</td>\n",
              "      <td>No info</td>\n",
              "      <td>6037</td>\n",
              "      <td>15</td>\n",
              "      <td>5</td>\n",
              "      <td>2019</td>\n",
              "      <td>...</td>\n",
              "      <td>NaN</td>\n",
              "      <td>None</td>\n",
              "      <td>2</td>\n",
              "      <td>0</td>\n",
              "      <td>0</td>\n",
              "      <td>[]</td>\n",
              "      <td></td>\n",
              "      <td>-1</td>\n",
              "      <td>5</td>\n",
              "      <td>45</td>\n",
              "    </tr>\n",
              "    <tr>\n",
              "      <th>10636</th>\n",
              "      <td>Jet Airways</td>\n",
              "      <td>[15, 05, 2019]</td>\n",
              "      <td>Kolkata</td>\n",
              "      <td>Banglore</td>\n",
              "      <td>1</td>\n",
              "      <td>No info</td>\n",
              "      <td>14388</td>\n",
              "      <td>15</td>\n",
              "      <td>5</td>\n",
              "      <td>2019</td>\n",
              "      <td>...</td>\n",
              "      <td>NaN</td>\n",
              "      <td>None</td>\n",
              "      <td>6</td>\n",
              "      <td>30</td>\n",
              "      <td>1</td>\n",
              "      <td>[]</td>\n",
              "      <td></td>\n",
              "      <td>-1</td>\n",
              "      <td>5</td>\n",
              "      <td>30</td>\n",
              "    </tr>\n",
              "  </tbody>\n",
              "</table>\n",
              "<p>481 rows × 21 columns</p>\n",
              "</div>\n",
              "      <button class=\"colab-df-convert\" onclick=\"convertToInteractive('df-5303fd4c-f9f0-4444-9162-c82e4237dd60')\"\n",
              "              title=\"Convert this dataframe to an interactive table.\"\n",
              "              style=\"display:none;\">\n",
              "        \n",
              "  <svg xmlns=\"http://www.w3.org/2000/svg\" height=\"24px\"viewBox=\"0 0 24 24\"\n",
              "       width=\"24px\">\n",
              "    <path d=\"M0 0h24v24H0V0z\" fill=\"none\"/>\n",
              "    <path d=\"M18.56 5.44l.94 2.06.94-2.06 2.06-.94-2.06-.94-.94-2.06-.94 2.06-2.06.94zm-11 1L8.5 8.5l.94-2.06 2.06-.94-2.06-.94L8.5 2.5l-.94 2.06-2.06.94zm10 10l.94 2.06.94-2.06 2.06-.94-2.06-.94-.94-2.06-.94 2.06-2.06.94z\"/><path d=\"M17.41 7.96l-1.37-1.37c-.4-.4-.92-.59-1.43-.59-.52 0-1.04.2-1.43.59L10.3 9.45l-7.72 7.72c-.78.78-.78 2.05 0 2.83L4 21.41c.39.39.9.59 1.41.59.51 0 1.02-.2 1.41-.59l7.78-7.78 2.81-2.81c.8-.78.8-2.07 0-2.86zM5.41 20L4 18.59l7.72-7.72 1.47 1.35L5.41 20z\"/>\n",
              "  </svg>\n",
              "      </button>\n",
              "      \n",
              "  <style>\n",
              "    .colab-df-container {\n",
              "      display:flex;\n",
              "      flex-wrap:wrap;\n",
              "      gap: 12px;\n",
              "    }\n",
              "\n",
              "    .colab-df-convert {\n",
              "      background-color: #E8F0FE;\n",
              "      border: none;\n",
              "      border-radius: 50%;\n",
              "      cursor: pointer;\n",
              "      display: none;\n",
              "      fill: #1967D2;\n",
              "      height: 32px;\n",
              "      padding: 0 0 0 0;\n",
              "      width: 32px;\n",
              "    }\n",
              "\n",
              "    .colab-df-convert:hover {\n",
              "      background-color: #E2EBFA;\n",
              "      box-shadow: 0px 1px 2px rgba(60, 64, 67, 0.3), 0px 1px 3px 1px rgba(60, 64, 67, 0.15);\n",
              "      fill: #174EA6;\n",
              "    }\n",
              "\n",
              "    [theme=dark] .colab-df-convert {\n",
              "      background-color: #3B4455;\n",
              "      fill: #D2E3FC;\n",
              "    }\n",
              "\n",
              "    [theme=dark] .colab-df-convert:hover {\n",
              "      background-color: #434B5C;\n",
              "      box-shadow: 0px 1px 3px 1px rgba(0, 0, 0, 0.15);\n",
              "      filter: drop-shadow(0px 1px 2px rgba(0, 0, 0, 0.3));\n",
              "      fill: #FFFFFF;\n",
              "    }\n",
              "  </style>\n",
              "\n",
              "      <script>\n",
              "        const buttonEl =\n",
              "          document.querySelector('#df-5303fd4c-f9f0-4444-9162-c82e4237dd60 button.colab-df-convert');\n",
              "        buttonEl.style.display =\n",
              "          google.colab.kernel.accessAllowed ? 'block' : 'none';\n",
              "\n",
              "        async function convertToInteractive(key) {\n",
              "          const element = document.querySelector('#df-5303fd4c-f9f0-4444-9162-c82e4237dd60');\n",
              "          const dataTable =\n",
              "            await google.colab.kernel.invokeFunction('convertToInteractive',\n",
              "                                                     [key], {});\n",
              "          if (!dataTable) return;\n",
              "\n",
              "          const docLinkHtml = 'Like what you see? Visit the ' +\n",
              "            '<a target=\"_blank\" href=https://colab.research.google.com/notebooks/data_table.ipynb>data table notebook</a>'\n",
              "            + ' to learn more about interactive tables.';\n",
              "          element.innerHTML = '';\n",
              "          dataTable['output_type'] = 'display_data';\n",
              "          await google.colab.output.renderOutput(dataTable, element);\n",
              "          const docLink = document.createElement('div');\n",
              "          docLink.innerHTML = docLinkHtml;\n",
              "          element.appendChild(docLink);\n",
              "        }\n",
              "      </script>\n",
              "    </div>\n",
              "  </div>\n",
              "  "
            ]
          },
          "metadata": {},
          "execution_count": 240
        }
      ]
    },
    {
      "cell_type": "code",
      "source": [
        "data.drop(index=6474,inplace=True,axis=0)"
      ],
      "metadata": {
        "id": "RF15viZgRMk5"
      },
      "execution_count": 241,
      "outputs": []
    },
    {
      "cell_type": "code",
      "source": [
        "data.Travel_Hours=data.Travel_Hours.astype('int64')"
      ],
      "metadata": {
        "id": "A7gSpDzbQohx"
      },
      "execution_count": 242,
      "outputs": []
    },
    {
      "cell_type": "markdown",
      "source": [
        "Label Encoding"
      ],
      "metadata": {
        "id": "soYyfB1kTGfA"
      }
    },
    {
      "cell_type": "code",
      "source": [
        "from sklearn.preprocessing import LabelEncoder\n",
        "le=LabelEncoder()"
      ],
      "metadata": {
        "id": "lHj5f0k1TRCn"
      },
      "execution_count": 243,
      "outputs": []
    },
    {
      "cell_type": "code",
      "source": [
        "data.Airline=le.fit_transform(data.Airline)\n",
        "data.Source=le.fit_transform(data.Source) \n",
        "data.Destination=le.fit_transform(data.Destination)\n",
        "data.Total_Stops=le.fit_transform(data.Total_Stops) \n",
        "data.Cityl=le.fit_transform(data.City1) \n",
        "data.City2=le.fit_transform(data.City2)\n",
        "data.City3=le.fit_transform(data.City3) \n",
        "data.Additional_Info=le.fit_transform(data. Additional_Info)\n",
        "data.head()"
      ],
      "metadata": {
        "colab": {
          "base_uri": "https://localhost:8080/",
          "height": 299
        },
        "id": "FunDefR5Umo1",
        "outputId": "2fde44e8-bf72-4a94-b93b-907981f656b7"
      },
      "execution_count": 244,
      "outputs": [
        {
          "output_type": "execute_result",
          "data": {
            "text/plain": [
              "   Airline Data_of_Journey  Source  Destination  Total_Stops  Additional_Info  \\\n",
              "0        3  [24, 03, 2019]       0            5            4                7   \n",
              "1        1   [1, 05, 2019]       3            0            1                7   \n",
              "2        4   [9, 06, 2019]       2            1            1                7   \n",
              "3        3  [12, 05, 2019]       3            0            0                7   \n",
              "4        3  [01, 03, 2019]       0            5            0                7   \n",
              "\n",
              "   Price  Date  Month  Year  ... City2  City3  Dep_Time_Hour  Dep_Time_Mins  \\\n",
              "0   3897    24      3  2019  ...     0      0             22             20   \n",
              "1   7662     1      5  2019  ...     0      0              5             50   \n",
              "2  13882     9      6  2019  ...     0      0              9             25   \n",
              "3   6218    12      5  2019  ...     0      0             18              5   \n",
              "4  13302     1      3  2019  ...     0      0             16             50   \n",
              "\n",
              "   Arrival_date  Time_of_Arrival Arrival_Time_Hour Arrival_Time_Mins  \\\n",
              "0             0               []                                  -1   \n",
              "1             1               []                                  -1   \n",
              "2             0               []                                  -1   \n",
              "3             2               []                                  -1   \n",
              "4             2               []                                  -1   \n",
              "\n",
              "   Travel_Hours  Travel_Mins  \n",
              "0             2           50  \n",
              "1             7           25  \n",
              "2            19           -1  \n",
              "3             5           25  \n",
              "4             4           45  \n",
              "\n",
              "[5 rows x 21 columns]"
            ],
            "text/html": [
              "\n",
              "  <div id=\"df-5a2ec179-03ce-4edd-937f-ff26ca62a75b\">\n",
              "    <div class=\"colab-df-container\">\n",
              "      <div>\n",
              "<style scoped>\n",
              "    .dataframe tbody tr th:only-of-type {\n",
              "        vertical-align: middle;\n",
              "    }\n",
              "\n",
              "    .dataframe tbody tr th {\n",
              "        vertical-align: top;\n",
              "    }\n",
              "\n",
              "    .dataframe thead th {\n",
              "        text-align: right;\n",
              "    }\n",
              "</style>\n",
              "<table border=\"1\" class=\"dataframe\">\n",
              "  <thead>\n",
              "    <tr style=\"text-align: right;\">\n",
              "      <th></th>\n",
              "      <th>Airline</th>\n",
              "      <th>Data_of_Journey</th>\n",
              "      <th>Source</th>\n",
              "      <th>Destination</th>\n",
              "      <th>Total_Stops</th>\n",
              "      <th>Additional_Info</th>\n",
              "      <th>Price</th>\n",
              "      <th>Date</th>\n",
              "      <th>Month</th>\n",
              "      <th>Year</th>\n",
              "      <th>...</th>\n",
              "      <th>City2</th>\n",
              "      <th>City3</th>\n",
              "      <th>Dep_Time_Hour</th>\n",
              "      <th>Dep_Time_Mins</th>\n",
              "      <th>Arrival_date</th>\n",
              "      <th>Time_of_Arrival</th>\n",
              "      <th>Arrival_Time_Hour</th>\n",
              "      <th>Arrival_Time_Mins</th>\n",
              "      <th>Travel_Hours</th>\n",
              "      <th>Travel_Mins</th>\n",
              "    </tr>\n",
              "  </thead>\n",
              "  <tbody>\n",
              "    <tr>\n",
              "      <th>0</th>\n",
              "      <td>3</td>\n",
              "      <td>[24, 03, 2019]</td>\n",
              "      <td>0</td>\n",
              "      <td>5</td>\n",
              "      <td>4</td>\n",
              "      <td>7</td>\n",
              "      <td>3897</td>\n",
              "      <td>24</td>\n",
              "      <td>3</td>\n",
              "      <td>2019</td>\n",
              "      <td>...</td>\n",
              "      <td>0</td>\n",
              "      <td>0</td>\n",
              "      <td>22</td>\n",
              "      <td>20</td>\n",
              "      <td>0</td>\n",
              "      <td>[]</td>\n",
              "      <td></td>\n",
              "      <td>-1</td>\n",
              "      <td>2</td>\n",
              "      <td>50</td>\n",
              "    </tr>\n",
              "    <tr>\n",
              "      <th>1</th>\n",
              "      <td>1</td>\n",
              "      <td>[1, 05, 2019]</td>\n",
              "      <td>3</td>\n",
              "      <td>0</td>\n",
              "      <td>1</td>\n",
              "      <td>7</td>\n",
              "      <td>7662</td>\n",
              "      <td>1</td>\n",
              "      <td>5</td>\n",
              "      <td>2019</td>\n",
              "      <td>...</td>\n",
              "      <td>0</td>\n",
              "      <td>0</td>\n",
              "      <td>5</td>\n",
              "      <td>50</td>\n",
              "      <td>1</td>\n",
              "      <td>[]</td>\n",
              "      <td></td>\n",
              "      <td>-1</td>\n",
              "      <td>7</td>\n",
              "      <td>25</td>\n",
              "    </tr>\n",
              "    <tr>\n",
              "      <th>2</th>\n",
              "      <td>4</td>\n",
              "      <td>[9, 06, 2019]</td>\n",
              "      <td>2</td>\n",
              "      <td>1</td>\n",
              "      <td>1</td>\n",
              "      <td>7</td>\n",
              "      <td>13882</td>\n",
              "      <td>9</td>\n",
              "      <td>6</td>\n",
              "      <td>2019</td>\n",
              "      <td>...</td>\n",
              "      <td>0</td>\n",
              "      <td>0</td>\n",
              "      <td>9</td>\n",
              "      <td>25</td>\n",
              "      <td>0</td>\n",
              "      <td>[]</td>\n",
              "      <td></td>\n",
              "      <td>-1</td>\n",
              "      <td>19</td>\n",
              "      <td>-1</td>\n",
              "    </tr>\n",
              "    <tr>\n",
              "      <th>3</th>\n",
              "      <td>3</td>\n",
              "      <td>[12, 05, 2019]</td>\n",
              "      <td>3</td>\n",
              "      <td>0</td>\n",
              "      <td>0</td>\n",
              "      <td>7</td>\n",
              "      <td>6218</td>\n",
              "      <td>12</td>\n",
              "      <td>5</td>\n",
              "      <td>2019</td>\n",
              "      <td>...</td>\n",
              "      <td>0</td>\n",
              "      <td>0</td>\n",
              "      <td>18</td>\n",
              "      <td>5</td>\n",
              "      <td>2</td>\n",
              "      <td>[]</td>\n",
              "      <td></td>\n",
              "      <td>-1</td>\n",
              "      <td>5</td>\n",
              "      <td>25</td>\n",
              "    </tr>\n",
              "    <tr>\n",
              "      <th>4</th>\n",
              "      <td>3</td>\n",
              "      <td>[01, 03, 2019]</td>\n",
              "      <td>0</td>\n",
              "      <td>5</td>\n",
              "      <td>0</td>\n",
              "      <td>7</td>\n",
              "      <td>13302</td>\n",
              "      <td>1</td>\n",
              "      <td>3</td>\n",
              "      <td>2019</td>\n",
              "      <td>...</td>\n",
              "      <td>0</td>\n",
              "      <td>0</td>\n",
              "      <td>16</td>\n",
              "      <td>50</td>\n",
              "      <td>2</td>\n",
              "      <td>[]</td>\n",
              "      <td></td>\n",
              "      <td>-1</td>\n",
              "      <td>4</td>\n",
              "      <td>45</td>\n",
              "    </tr>\n",
              "  </tbody>\n",
              "</table>\n",
              "<p>5 rows × 21 columns</p>\n",
              "</div>\n",
              "      <button class=\"colab-df-convert\" onclick=\"convertToInteractive('df-5a2ec179-03ce-4edd-937f-ff26ca62a75b')\"\n",
              "              title=\"Convert this dataframe to an interactive table.\"\n",
              "              style=\"display:none;\">\n",
              "        \n",
              "  <svg xmlns=\"http://www.w3.org/2000/svg\" height=\"24px\"viewBox=\"0 0 24 24\"\n",
              "       width=\"24px\">\n",
              "    <path d=\"M0 0h24v24H0V0z\" fill=\"none\"/>\n",
              "    <path d=\"M18.56 5.44l.94 2.06.94-2.06 2.06-.94-2.06-.94-.94-2.06-.94 2.06-2.06.94zm-11 1L8.5 8.5l.94-2.06 2.06-.94-2.06-.94L8.5 2.5l-.94 2.06-2.06.94zm10 10l.94 2.06.94-2.06 2.06-.94-2.06-.94-.94-2.06-.94 2.06-2.06.94z\"/><path d=\"M17.41 7.96l-1.37-1.37c-.4-.4-.92-.59-1.43-.59-.52 0-1.04.2-1.43.59L10.3 9.45l-7.72 7.72c-.78.78-.78 2.05 0 2.83L4 21.41c.39.39.9.59 1.41.59.51 0 1.02-.2 1.41-.59l7.78-7.78 2.81-2.81c.8-.78.8-2.07 0-2.86zM5.41 20L4 18.59l7.72-7.72 1.47 1.35L5.41 20z\"/>\n",
              "  </svg>\n",
              "      </button>\n",
              "      \n",
              "  <style>\n",
              "    .colab-df-container {\n",
              "      display:flex;\n",
              "      flex-wrap:wrap;\n",
              "      gap: 12px;\n",
              "    }\n",
              "\n",
              "    .colab-df-convert {\n",
              "      background-color: #E8F0FE;\n",
              "      border: none;\n",
              "      border-radius: 50%;\n",
              "      cursor: pointer;\n",
              "      display: none;\n",
              "      fill: #1967D2;\n",
              "      height: 32px;\n",
              "      padding: 0 0 0 0;\n",
              "      width: 32px;\n",
              "    }\n",
              "\n",
              "    .colab-df-convert:hover {\n",
              "      background-color: #E2EBFA;\n",
              "      box-shadow: 0px 1px 2px rgba(60, 64, 67, 0.3), 0px 1px 3px 1px rgba(60, 64, 67, 0.15);\n",
              "      fill: #174EA6;\n",
              "    }\n",
              "\n",
              "    [theme=dark] .colab-df-convert {\n",
              "      background-color: #3B4455;\n",
              "      fill: #D2E3FC;\n",
              "    }\n",
              "\n",
              "    [theme=dark] .colab-df-convert:hover {\n",
              "      background-color: #434B5C;\n",
              "      box-shadow: 0px 1px 3px 1px rgba(0, 0, 0, 0.15);\n",
              "      filter: drop-shadow(0px 1px 2px rgba(0, 0, 0, 0.3));\n",
              "      fill: #FFFFFF;\n",
              "    }\n",
              "  </style>\n",
              "\n",
              "      <script>\n",
              "        const buttonEl =\n",
              "          document.querySelector('#df-5a2ec179-03ce-4edd-937f-ff26ca62a75b button.colab-df-convert');\n",
              "        buttonEl.style.display =\n",
              "          google.colab.kernel.accessAllowed ? 'block' : 'none';\n",
              "\n",
              "        async function convertToInteractive(key) {\n",
              "          const element = document.querySelector('#df-5a2ec179-03ce-4edd-937f-ff26ca62a75b');\n",
              "          const dataTable =\n",
              "            await google.colab.kernel.invokeFunction('convertToInteractive',\n",
              "                                                     [key], {});\n",
              "          if (!dataTable) return;\n",
              "\n",
              "          const docLinkHtml = 'Like what you see? Visit the ' +\n",
              "            '<a target=\"_blank\" href=https://colab.research.google.com/notebooks/data_table.ipynb>data table notebook</a>'\n",
              "            + ' to learn more about interactive tables.';\n",
              "          element.innerHTML = '';\n",
              "          dataTable['output_type'] = 'display_data';\n",
              "          await google.colab.output.renderOutput(dataTable, element);\n",
              "          const docLink = document.createElement('div');\n",
              "          docLink.innerHTML = docLinkHtml;\n",
              "          element.appendChild(docLink);\n",
              "        }\n",
              "      </script>\n",
              "    </div>\n",
              "  </div>\n",
              "  "
            ]
          },
          "metadata": {},
          "execution_count": 244
        }
      ]
    },
    {
      "cell_type": "code",
      "source": [
        "data = data[['Airline','Source','Destination','Date','Month','Year','Dep_Time_Hour','Dep_Time_Mins','Dep_Time_Mins','Arrival_date','Arrival_Time_Hour','Arrival_Time_Mins','Price']]"
      ],
      "metadata": {
        "id": "w6_WWY-pXJj5"
      },
      "execution_count": 245,
      "outputs": []
    },
    {
      "cell_type": "code",
      "source": [
        "data.head()"
      ],
      "metadata": {
        "colab": {
          "base_uri": "https://localhost:8080/",
          "height": 270
        },
        "id": "Y5L45gKiZyrE",
        "outputId": "e9357b70-7316-45b5-d3db-fd9407392fb3"
      },
      "execution_count": 246,
      "outputs": [
        {
          "output_type": "execute_result",
          "data": {
            "text/plain": [
              "   Airline  Source  Destination  Date  Month  Year  Dep_Time_Hour  \\\n",
              "0        3       0            5    24      3  2019             22   \n",
              "1        1       3            0     1      5  2019              5   \n",
              "2        4       2            1     9      6  2019              9   \n",
              "3        3       3            0    12      5  2019             18   \n",
              "4        3       0            5     1      3  2019             16   \n",
              "\n",
              "   Dep_Time_Mins  Dep_Time_Mins  Arrival_date Arrival_Time_Hour  \\\n",
              "0             20             20             0                     \n",
              "1             50             50             1                     \n",
              "2             25             25             0                     \n",
              "3              5              5             2                     \n",
              "4             50             50             2                     \n",
              "\n",
              "   Arrival_Time_Mins  Price  \n",
              "0                 -1   3897  \n",
              "1                 -1   7662  \n",
              "2                 -1  13882  \n",
              "3                 -1   6218  \n",
              "4                 -1  13302  "
            ],
            "text/html": [
              "\n",
              "  <div id=\"df-d05f1249-fb00-4c30-bcf5-e7964c638c91\">\n",
              "    <div class=\"colab-df-container\">\n",
              "      <div>\n",
              "<style scoped>\n",
              "    .dataframe tbody tr th:only-of-type {\n",
              "        vertical-align: middle;\n",
              "    }\n",
              "\n",
              "    .dataframe tbody tr th {\n",
              "        vertical-align: top;\n",
              "    }\n",
              "\n",
              "    .dataframe thead th {\n",
              "        text-align: right;\n",
              "    }\n",
              "</style>\n",
              "<table border=\"1\" class=\"dataframe\">\n",
              "  <thead>\n",
              "    <tr style=\"text-align: right;\">\n",
              "      <th></th>\n",
              "      <th>Airline</th>\n",
              "      <th>Source</th>\n",
              "      <th>Destination</th>\n",
              "      <th>Date</th>\n",
              "      <th>Month</th>\n",
              "      <th>Year</th>\n",
              "      <th>Dep_Time_Hour</th>\n",
              "      <th>Dep_Time_Mins</th>\n",
              "      <th>Dep_Time_Mins</th>\n",
              "      <th>Arrival_date</th>\n",
              "      <th>Arrival_Time_Hour</th>\n",
              "      <th>Arrival_Time_Mins</th>\n",
              "      <th>Price</th>\n",
              "    </tr>\n",
              "  </thead>\n",
              "  <tbody>\n",
              "    <tr>\n",
              "      <th>0</th>\n",
              "      <td>3</td>\n",
              "      <td>0</td>\n",
              "      <td>5</td>\n",
              "      <td>24</td>\n",
              "      <td>3</td>\n",
              "      <td>2019</td>\n",
              "      <td>22</td>\n",
              "      <td>20</td>\n",
              "      <td>20</td>\n",
              "      <td>0</td>\n",
              "      <td></td>\n",
              "      <td>-1</td>\n",
              "      <td>3897</td>\n",
              "    </tr>\n",
              "    <tr>\n",
              "      <th>1</th>\n",
              "      <td>1</td>\n",
              "      <td>3</td>\n",
              "      <td>0</td>\n",
              "      <td>1</td>\n",
              "      <td>5</td>\n",
              "      <td>2019</td>\n",
              "      <td>5</td>\n",
              "      <td>50</td>\n",
              "      <td>50</td>\n",
              "      <td>1</td>\n",
              "      <td></td>\n",
              "      <td>-1</td>\n",
              "      <td>7662</td>\n",
              "    </tr>\n",
              "    <tr>\n",
              "      <th>2</th>\n",
              "      <td>4</td>\n",
              "      <td>2</td>\n",
              "      <td>1</td>\n",
              "      <td>9</td>\n",
              "      <td>6</td>\n",
              "      <td>2019</td>\n",
              "      <td>9</td>\n",
              "      <td>25</td>\n",
              "      <td>25</td>\n",
              "      <td>0</td>\n",
              "      <td></td>\n",
              "      <td>-1</td>\n",
              "      <td>13882</td>\n",
              "    </tr>\n",
              "    <tr>\n",
              "      <th>3</th>\n",
              "      <td>3</td>\n",
              "      <td>3</td>\n",
              "      <td>0</td>\n",
              "      <td>12</td>\n",
              "      <td>5</td>\n",
              "      <td>2019</td>\n",
              "      <td>18</td>\n",
              "      <td>5</td>\n",
              "      <td>5</td>\n",
              "      <td>2</td>\n",
              "      <td></td>\n",
              "      <td>-1</td>\n",
              "      <td>6218</td>\n",
              "    </tr>\n",
              "    <tr>\n",
              "      <th>4</th>\n",
              "      <td>3</td>\n",
              "      <td>0</td>\n",
              "      <td>5</td>\n",
              "      <td>1</td>\n",
              "      <td>3</td>\n",
              "      <td>2019</td>\n",
              "      <td>16</td>\n",
              "      <td>50</td>\n",
              "      <td>50</td>\n",
              "      <td>2</td>\n",
              "      <td></td>\n",
              "      <td>-1</td>\n",
              "      <td>13302</td>\n",
              "    </tr>\n",
              "  </tbody>\n",
              "</table>\n",
              "</div>\n",
              "      <button class=\"colab-df-convert\" onclick=\"convertToInteractive('df-d05f1249-fb00-4c30-bcf5-e7964c638c91')\"\n",
              "              title=\"Convert this dataframe to an interactive table.\"\n",
              "              style=\"display:none;\">\n",
              "        \n",
              "  <svg xmlns=\"http://www.w3.org/2000/svg\" height=\"24px\"viewBox=\"0 0 24 24\"\n",
              "       width=\"24px\">\n",
              "    <path d=\"M0 0h24v24H0V0z\" fill=\"none\"/>\n",
              "    <path d=\"M18.56 5.44l.94 2.06.94-2.06 2.06-.94-2.06-.94-.94-2.06-.94 2.06-2.06.94zm-11 1L8.5 8.5l.94-2.06 2.06-.94-2.06-.94L8.5 2.5l-.94 2.06-2.06.94zm10 10l.94 2.06.94-2.06 2.06-.94-2.06-.94-.94-2.06-.94 2.06-2.06.94z\"/><path d=\"M17.41 7.96l-1.37-1.37c-.4-.4-.92-.59-1.43-.59-.52 0-1.04.2-1.43.59L10.3 9.45l-7.72 7.72c-.78.78-.78 2.05 0 2.83L4 21.41c.39.39.9.59 1.41.59.51 0 1.02-.2 1.41-.59l7.78-7.78 2.81-2.81c.8-.78.8-2.07 0-2.86zM5.41 20L4 18.59l7.72-7.72 1.47 1.35L5.41 20z\"/>\n",
              "  </svg>\n",
              "      </button>\n",
              "      \n",
              "  <style>\n",
              "    .colab-df-container {\n",
              "      display:flex;\n",
              "      flex-wrap:wrap;\n",
              "      gap: 12px;\n",
              "    }\n",
              "\n",
              "    .colab-df-convert {\n",
              "      background-color: #E8F0FE;\n",
              "      border: none;\n",
              "      border-radius: 50%;\n",
              "      cursor: pointer;\n",
              "      display: none;\n",
              "      fill: #1967D2;\n",
              "      height: 32px;\n",
              "      padding: 0 0 0 0;\n",
              "      width: 32px;\n",
              "    }\n",
              "\n",
              "    .colab-df-convert:hover {\n",
              "      background-color: #E2EBFA;\n",
              "      box-shadow: 0px 1px 2px rgba(60, 64, 67, 0.3), 0px 1px 3px 1px rgba(60, 64, 67, 0.15);\n",
              "      fill: #174EA6;\n",
              "    }\n",
              "\n",
              "    [theme=dark] .colab-df-convert {\n",
              "      background-color: #3B4455;\n",
              "      fill: #D2E3FC;\n",
              "    }\n",
              "\n",
              "    [theme=dark] .colab-df-convert:hover {\n",
              "      background-color: #434B5C;\n",
              "      box-shadow: 0px 1px 3px 1px rgba(0, 0, 0, 0.15);\n",
              "      filter: drop-shadow(0px 1px 2px rgba(0, 0, 0, 0.3));\n",
              "      fill: #FFFFFF;\n",
              "    }\n",
              "  </style>\n",
              "\n",
              "      <script>\n",
              "        const buttonEl =\n",
              "          document.querySelector('#df-d05f1249-fb00-4c30-bcf5-e7964c638c91 button.colab-df-convert');\n",
              "        buttonEl.style.display =\n",
              "          google.colab.kernel.accessAllowed ? 'block' : 'none';\n",
              "\n",
              "        async function convertToInteractive(key) {\n",
              "          const element = document.querySelector('#df-d05f1249-fb00-4c30-bcf5-e7964c638c91');\n",
              "          const dataTable =\n",
              "            await google.colab.kernel.invokeFunction('convertToInteractive',\n",
              "                                                     [key], {});\n",
              "          if (!dataTable) return;\n",
              "\n",
              "          const docLinkHtml = 'Like what you see? Visit the ' +\n",
              "            '<a target=\"_blank\" href=https://colab.research.google.com/notebooks/data_table.ipynb>data table notebook</a>'\n",
              "            + ' to learn more about interactive tables.';\n",
              "          element.innerHTML = '';\n",
              "          dataTable['output_type'] = 'display_data';\n",
              "          await google.colab.output.renderOutput(dataTable, element);\n",
              "          const docLink = document.createElement('div');\n",
              "          docLink.innerHTML = docLinkHtml;\n",
              "          element.appendChild(docLink);\n",
              "        }\n",
              "      </script>\n",
              "    </div>\n",
              "  </div>\n",
              "  "
            ]
          },
          "metadata": {},
          "execution_count": 246
        }
      ]
    },
    {
      "cell_type": "code",
      "source": [
        "data.describe()"
      ],
      "metadata": {
        "colab": {
          "base_uri": "https://localhost:8080/",
          "height": 364
        },
        "id": "s4FPck2OZ6A0",
        "outputId": "db813234-450c-4331-db40-da1d1f6837bc"
      },
      "execution_count": 247,
      "outputs": [
        {
          "output_type": "execute_result",
          "data": {
            "text/plain": [
              "            Airline        Source   Destination          Date         Month  \\\n",
              "count  10682.000000  10682.000000  10682.000000  10682.000000  10682.000000   \n",
              "mean       3.966205      1.952069      1.435967     13.509081      4.708762   \n",
              "std        2.352090      1.177110      1.474773      8.479363      1.164294   \n",
              "min        0.000000      0.000000      0.000000      1.000000      3.000000   \n",
              "25%        3.000000      2.000000      0.000000      6.000000      3.000000   \n",
              "50%        4.000000      2.000000      1.000000     12.000000      5.000000   \n",
              "75%        4.000000      3.000000      2.000000     21.000000      6.000000   \n",
              "max       11.000000      4.000000      5.000000     27.000000      6.000000   \n",
              "\n",
              "          Year  Dep_Time_Hour  Dep_Time_Mins  Dep_Time_Mins  Arrival_date  \\\n",
              "count  10682.0   10682.000000   10682.000000   10682.000000  10682.000000   \n",
              "mean    2019.0      12.490358      24.408819      24.408819      0.896836   \n",
              "std        0.0       5.748819      18.767225      18.767225      0.711845   \n",
              "min     2019.0       0.000000       0.000000       0.000000      0.000000   \n",
              "25%     2019.0       8.000000       5.000000       5.000000      0.000000   \n",
              "50%     2019.0      11.000000      25.000000      25.000000      1.000000   \n",
              "75%     2019.0      18.000000      40.000000      40.000000      1.000000   \n",
              "max     2019.0      23.000000      55.000000      55.000000      2.000000   \n",
              "\n",
              "       Arrival_Time_Mins         Price  \n",
              "count            10682.0  10682.000000  \n",
              "mean                -1.0   9086.292735  \n",
              "std                  0.0   4610.885695  \n",
              "min                 -1.0   1759.000000  \n",
              "25%                 -1.0   5277.000000  \n",
              "50%                 -1.0   8372.000000  \n",
              "75%                 -1.0  12373.000000  \n",
              "max                 -1.0  79512.000000  "
            ],
            "text/html": [
              "\n",
              "  <div id=\"df-67efdb05-181c-480d-83e3-7db3f7aa9405\">\n",
              "    <div class=\"colab-df-container\">\n",
              "      <div>\n",
              "<style scoped>\n",
              "    .dataframe tbody tr th:only-of-type {\n",
              "        vertical-align: middle;\n",
              "    }\n",
              "\n",
              "    .dataframe tbody tr th {\n",
              "        vertical-align: top;\n",
              "    }\n",
              "\n",
              "    .dataframe thead th {\n",
              "        text-align: right;\n",
              "    }\n",
              "</style>\n",
              "<table border=\"1\" class=\"dataframe\">\n",
              "  <thead>\n",
              "    <tr style=\"text-align: right;\">\n",
              "      <th></th>\n",
              "      <th>Airline</th>\n",
              "      <th>Source</th>\n",
              "      <th>Destination</th>\n",
              "      <th>Date</th>\n",
              "      <th>Month</th>\n",
              "      <th>Year</th>\n",
              "      <th>Dep_Time_Hour</th>\n",
              "      <th>Dep_Time_Mins</th>\n",
              "      <th>Dep_Time_Mins</th>\n",
              "      <th>Arrival_date</th>\n",
              "      <th>Arrival_Time_Mins</th>\n",
              "      <th>Price</th>\n",
              "    </tr>\n",
              "  </thead>\n",
              "  <tbody>\n",
              "    <tr>\n",
              "      <th>count</th>\n",
              "      <td>10682.000000</td>\n",
              "      <td>10682.000000</td>\n",
              "      <td>10682.000000</td>\n",
              "      <td>10682.000000</td>\n",
              "      <td>10682.000000</td>\n",
              "      <td>10682.0</td>\n",
              "      <td>10682.000000</td>\n",
              "      <td>10682.000000</td>\n",
              "      <td>10682.000000</td>\n",
              "      <td>10682.000000</td>\n",
              "      <td>10682.0</td>\n",
              "      <td>10682.000000</td>\n",
              "    </tr>\n",
              "    <tr>\n",
              "      <th>mean</th>\n",
              "      <td>3.966205</td>\n",
              "      <td>1.952069</td>\n",
              "      <td>1.435967</td>\n",
              "      <td>13.509081</td>\n",
              "      <td>4.708762</td>\n",
              "      <td>2019.0</td>\n",
              "      <td>12.490358</td>\n",
              "      <td>24.408819</td>\n",
              "      <td>24.408819</td>\n",
              "      <td>0.896836</td>\n",
              "      <td>-1.0</td>\n",
              "      <td>9086.292735</td>\n",
              "    </tr>\n",
              "    <tr>\n",
              "      <th>std</th>\n",
              "      <td>2.352090</td>\n",
              "      <td>1.177110</td>\n",
              "      <td>1.474773</td>\n",
              "      <td>8.479363</td>\n",
              "      <td>1.164294</td>\n",
              "      <td>0.0</td>\n",
              "      <td>5.748819</td>\n",
              "      <td>18.767225</td>\n",
              "      <td>18.767225</td>\n",
              "      <td>0.711845</td>\n",
              "      <td>0.0</td>\n",
              "      <td>4610.885695</td>\n",
              "    </tr>\n",
              "    <tr>\n",
              "      <th>min</th>\n",
              "      <td>0.000000</td>\n",
              "      <td>0.000000</td>\n",
              "      <td>0.000000</td>\n",
              "      <td>1.000000</td>\n",
              "      <td>3.000000</td>\n",
              "      <td>2019.0</td>\n",
              "      <td>0.000000</td>\n",
              "      <td>0.000000</td>\n",
              "      <td>0.000000</td>\n",
              "      <td>0.000000</td>\n",
              "      <td>-1.0</td>\n",
              "      <td>1759.000000</td>\n",
              "    </tr>\n",
              "    <tr>\n",
              "      <th>25%</th>\n",
              "      <td>3.000000</td>\n",
              "      <td>2.000000</td>\n",
              "      <td>0.000000</td>\n",
              "      <td>6.000000</td>\n",
              "      <td>3.000000</td>\n",
              "      <td>2019.0</td>\n",
              "      <td>8.000000</td>\n",
              "      <td>5.000000</td>\n",
              "      <td>5.000000</td>\n",
              "      <td>0.000000</td>\n",
              "      <td>-1.0</td>\n",
              "      <td>5277.000000</td>\n",
              "    </tr>\n",
              "    <tr>\n",
              "      <th>50%</th>\n",
              "      <td>4.000000</td>\n",
              "      <td>2.000000</td>\n",
              "      <td>1.000000</td>\n",
              "      <td>12.000000</td>\n",
              "      <td>5.000000</td>\n",
              "      <td>2019.0</td>\n",
              "      <td>11.000000</td>\n",
              "      <td>25.000000</td>\n",
              "      <td>25.000000</td>\n",
              "      <td>1.000000</td>\n",
              "      <td>-1.0</td>\n",
              "      <td>8372.000000</td>\n",
              "    </tr>\n",
              "    <tr>\n",
              "      <th>75%</th>\n",
              "      <td>4.000000</td>\n",
              "      <td>3.000000</td>\n",
              "      <td>2.000000</td>\n",
              "      <td>21.000000</td>\n",
              "      <td>6.000000</td>\n",
              "      <td>2019.0</td>\n",
              "      <td>18.000000</td>\n",
              "      <td>40.000000</td>\n",
              "      <td>40.000000</td>\n",
              "      <td>1.000000</td>\n",
              "      <td>-1.0</td>\n",
              "      <td>12373.000000</td>\n",
              "    </tr>\n",
              "    <tr>\n",
              "      <th>max</th>\n",
              "      <td>11.000000</td>\n",
              "      <td>4.000000</td>\n",
              "      <td>5.000000</td>\n",
              "      <td>27.000000</td>\n",
              "      <td>6.000000</td>\n",
              "      <td>2019.0</td>\n",
              "      <td>23.000000</td>\n",
              "      <td>55.000000</td>\n",
              "      <td>55.000000</td>\n",
              "      <td>2.000000</td>\n",
              "      <td>-1.0</td>\n",
              "      <td>79512.000000</td>\n",
              "    </tr>\n",
              "  </tbody>\n",
              "</table>\n",
              "</div>\n",
              "      <button class=\"colab-df-convert\" onclick=\"convertToInteractive('df-67efdb05-181c-480d-83e3-7db3f7aa9405')\"\n",
              "              title=\"Convert this dataframe to an interactive table.\"\n",
              "              style=\"display:none;\">\n",
              "        \n",
              "  <svg xmlns=\"http://www.w3.org/2000/svg\" height=\"24px\"viewBox=\"0 0 24 24\"\n",
              "       width=\"24px\">\n",
              "    <path d=\"M0 0h24v24H0V0z\" fill=\"none\"/>\n",
              "    <path d=\"M18.56 5.44l.94 2.06.94-2.06 2.06-.94-2.06-.94-.94-2.06-.94 2.06-2.06.94zm-11 1L8.5 8.5l.94-2.06 2.06-.94-2.06-.94L8.5 2.5l-.94 2.06-2.06.94zm10 10l.94 2.06.94-2.06 2.06-.94-2.06-.94-.94-2.06-.94 2.06-2.06.94z\"/><path d=\"M17.41 7.96l-1.37-1.37c-.4-.4-.92-.59-1.43-.59-.52 0-1.04.2-1.43.59L10.3 9.45l-7.72 7.72c-.78.78-.78 2.05 0 2.83L4 21.41c.39.39.9.59 1.41.59.51 0 1.02-.2 1.41-.59l7.78-7.78 2.81-2.81c.8-.78.8-2.07 0-2.86zM5.41 20L4 18.59l7.72-7.72 1.47 1.35L5.41 20z\"/>\n",
              "  </svg>\n",
              "      </button>\n",
              "      \n",
              "  <style>\n",
              "    .colab-df-container {\n",
              "      display:flex;\n",
              "      flex-wrap:wrap;\n",
              "      gap: 12px;\n",
              "    }\n",
              "\n",
              "    .colab-df-convert {\n",
              "      background-color: #E8F0FE;\n",
              "      border: none;\n",
              "      border-radius: 50%;\n",
              "      cursor: pointer;\n",
              "      display: none;\n",
              "      fill: #1967D2;\n",
              "      height: 32px;\n",
              "      padding: 0 0 0 0;\n",
              "      width: 32px;\n",
              "    }\n",
              "\n",
              "    .colab-df-convert:hover {\n",
              "      background-color: #E2EBFA;\n",
              "      box-shadow: 0px 1px 2px rgba(60, 64, 67, 0.3), 0px 1px 3px 1px rgba(60, 64, 67, 0.15);\n",
              "      fill: #174EA6;\n",
              "    }\n",
              "\n",
              "    [theme=dark] .colab-df-convert {\n",
              "      background-color: #3B4455;\n",
              "      fill: #D2E3FC;\n",
              "    }\n",
              "\n",
              "    [theme=dark] .colab-df-convert:hover {\n",
              "      background-color: #434B5C;\n",
              "      box-shadow: 0px 1px 3px 1px rgba(0, 0, 0, 0.15);\n",
              "      filter: drop-shadow(0px 1px 2px rgba(0, 0, 0, 0.3));\n",
              "      fill: #FFFFFF;\n",
              "    }\n",
              "  </style>\n",
              "\n",
              "      <script>\n",
              "        const buttonEl =\n",
              "          document.querySelector('#df-67efdb05-181c-480d-83e3-7db3f7aa9405 button.colab-df-convert');\n",
              "        buttonEl.style.display =\n",
              "          google.colab.kernel.accessAllowed ? 'block' : 'none';\n",
              "\n",
              "        async function convertToInteractive(key) {\n",
              "          const element = document.querySelector('#df-67efdb05-181c-480d-83e3-7db3f7aa9405');\n",
              "          const dataTable =\n",
              "            await google.colab.kernel.invokeFunction('convertToInteractive',\n",
              "                                                     [key], {});\n",
              "          if (!dataTable) return;\n",
              "\n",
              "          const docLinkHtml = 'Like what you see? Visit the ' +\n",
              "            '<a target=\"_blank\" href=https://colab.research.google.com/notebooks/data_table.ipynb>data table notebook</a>'\n",
              "            + ' to learn more about interactive tables.';\n",
              "          element.innerHTML = '';\n",
              "          dataTable['output_type'] = 'display_data';\n",
              "          await google.colab.output.renderOutput(dataTable, element);\n",
              "          const docLink = document.createElement('div');\n",
              "          docLink.innerHTML = docLinkHtml;\n",
              "          element.appendChild(docLink);\n",
              "        }\n",
              "      </script>\n",
              "    </div>\n",
              "  </div>\n",
              "  "
            ]
          },
          "metadata": {},
          "execution_count": 247
        }
      ]
    },
    {
      "cell_type": "code",
      "source": [
        "import seaborn as sns\n",
        "import matplotlib.pyplot as plt\n",
        "\n",
        "# Define categorical variables\n",
        "categorical = ['Airline', 'Source', 'Destination', 'Additional_Info', 'City1']\n",
        "\n",
        "# Create a plot for each categorical variable\n",
        "c = 1\n",
        "plt.figure(figsize=(10,20))\n",
        "for i in data.columns: \n",
        "    if i in categorical:\n",
        "        plt.subplot(6,3,c)\n",
        "        sns.countplot(x=data[i])\n",
        "        plt.xticks(rotation=90)\n",
        "        plt.tight_layout(pad=3.0)\n",
        "        c=c+1  \n",
        "plt.show()\n"
      ],
      "metadata": {
        "colab": {
          "base_uri": "https://localhost:8080/",
          "height": 332
        },
        "id": "j6Xxu6G4oWoP",
        "outputId": "9c213a2a-93d8-448c-f4f5-b0e02270ac43"
      },
      "execution_count": 248,
      "outputs": [
        {
          "output_type": "display_data",
          "data": {
            "text/plain": [
              "<Figure size 1000x2000 with 3 Axes>"
            ],
            "image/png": "[encoded data removed]"
          },
          "metadata": {}
        }
      ]
    },
    {
      "cell_type": "code",
      "source": [
        "import matplotlib.pyplot as plt\n",
        "import seaborn as sns\n",
        "\n",
        "plt.figure(figsize=(15,8))\n",
        "sns.distplot(data['Price'])\n"
      ],
      "metadata": {
        "colab": {
          "base_uri": "https://localhost:8080/",
          "height": 622
        },
        "id": "3SQqi2huxnDO",
        "outputId": "dd385ed0-402c-48d5-c99e-79188132d260"
      },
      "execution_count": 249,
      "outputs": [
        {
          "output_type": "execute_result",
          "data": {
            "text/plain": [
              "<Axes: xlabel='Price', ylabel='Density'>"
            ]
          },
          "metadata": {},
          "execution_count": 249
        },
        {
          "output_type": "display_data",
          "data": {
            "text/plain": [
              "<Figure size 1500x800 with 1 Axes>"
            ],
            "image/png": "[encoded data removed]"
          },
          "metadata": {}
        }
      ]
    },
    {
      "cell_type": "code",
      "source": [
        "sns.heatmap(data.corr(),annot=True)"
      ],
      "metadata": {
        "colab": {
          "base_uri": "https://localhost:8080/",
          "height": 564
        },
        "id": "osCnCKIUmFHz",
        "outputId": "379dc102-eeb7-43ed-8e63-9718f616441a"
      },
      "execution_count": 250,
      "outputs": [
        {
          "output_type": "execute_result",
          "data": {
            "text/plain": [
              "<Axes: >"
            ]
          },
          "metadata": {},
          "execution_count": 250
        },
        {
          "output_type": "display_data",
          "data": {
            "text/plain": [
              "<Figure size 640x480 with 2 Axes>"
            ],
            "image/png": "[encoded data removed]"
          },
          "metadata": {}
        }
      ]
    },
    {
      "cell_type": "code",
      "source": [
        "import seaborn as sns \n",
        "sns.boxplot(data['Price'])"
      ],
      "metadata": {
        "colab": {
          "base_uri": "https://localhost:8080/",
          "height": 448
        },
        "id": "GvkdlOekmF5G",
        "outputId": "4c90e43f-a99e-4138-f888-d0df529b89d5"
      },
      "execution_count": 251,
      "outputs": [
        {
          "output_type": "execute_result",
          "data": {
            "text/plain": [
              "<Axes: >"
            ]
          },
          "metadata": {},
          "execution_count": 251
        },
        {
          "output_type": "display_data",
          "data": {
            "text/plain": [
              "<Figure size 640x480 with 1 Axes>"
            ],
            "image/png": "[encoded data removed]"
          },
          "metadata": {}
        }
      ]
    },
    {
      "cell_type": "code",
      "source": [
        "y = data['Price']\n",
        "x = data.drop(columns=['Price','Arrival_Time_Hour'],axis=1)"
      ],
      "metadata": {
        "id": "hyapAXXPz2B6"
      },
      "execution_count": 252,
      "outputs": []
    },
    {
      "cell_type": "code",
      "source": [
        "from sklearn.preprocessing import StandardScaler\n",
        "ss = StandardScaler()\n",
        "\n"
      ],
      "metadata": {
        "id": "nh_KGZbD2i5V"
      },
      "execution_count": 253,
      "outputs": []
    },
    {
      "cell_type": "code",
      "source": [
        "data.info()"
      ],
      "metadata": {
        "colab": {
          "base_uri": "https://localhost:8080/"
        },
        "id": "sNUv67SC8_uF",
        "outputId": "90eab223-5425-4dce-9b26-13d8d70db9d3"
      },
      "execution_count": 254,
      "outputs": [
        {
          "output_type": "stream",
          "name": "stdout",
          "text": [
            "<class 'pandas.core.frame.DataFrame'>\n",
            "Int64Index: 10682 entries, 0 to 10682\n",
            "Data columns (total 13 columns):\n",
            " #   Column             Non-Null Count  Dtype \n",
            "---  ------             --------------  ----- \n",
            " 0   Airline            10682 non-null  int64 \n",
            " 1   Source             10682 non-null  int64 \n",
            " 2   Destination        10682 non-null  int64 \n",
            " 3   Date               10682 non-null  int64 \n",
            " 4   Month              10682 non-null  int64 \n",
            " 5   Year               10682 non-null  int64 \n",
            " 6   Dep_Time_Hour      10682 non-null  int64 \n",
            " 7   Dep_Time_Mins      10682 non-null  int64 \n",
            " 8   Dep_Time_Mins      10682 non-null  int64 \n",
            " 9   Arrival_date       10682 non-null  int64 \n",
            " 10  Arrival_Time_Hour  10682 non-null  object\n",
            " 11  Arrival_Time_Mins  10682 non-null  int64 \n",
            " 12  Price              10682 non-null  int64 \n",
            "dtypes: int64(12), object(1)\n",
            "memory usage: 1.4+ MB\n"
          ]
        }
      ]
    },
    {
      "cell_type": "code",
      "source": [
        "x_scaled = ss.fit_transform(x)"
      ],
      "metadata": {
        "id": "O8e6qNNd6A_d"
      },
      "execution_count": 255,
      "outputs": []
    },
    {
      "cell_type": "code",
      "source": [
        "x_scaled = pd.DataFrame(x_scaled)\n",
        "x_scaled.head()\n"
      ],
      "metadata": {
        "id": "wLRY9XoZ1Gz7",
        "colab": {
          "base_uri": "https://localhost:8080/",
          "height": 206
        },
        "outputId": "5df625a4-cc99-4182-f863-eb2a9a60af4d"
      },
      "execution_count": 256,
      "outputs": [
        {
          "output_type": "execute_result",
          "data": {
            "text/plain": [
              "         0         1         2         3         4    5         6         7   \\\n",
              "0 -0.410805 -1.658435  2.416778  1.237288 -1.467707  0.0  1.654268 -0.234932   \n",
              "1 -1.261152  0.890299 -0.973732 -1.475307  0.250153  0.0 -1.303000  1.363674   \n",
              "2  0.014369  0.040721 -0.295630 -0.531796  1.109082  0.0 -0.607172  0.031502   \n",
              "3 -0.410805  0.890299 -0.973732 -0.177979  0.250153  0.0  0.958440 -1.034235   \n",
              "4 -0.410805 -1.658435  2.416778 -1.475307 -1.467707  0.0  0.610527  1.363674   \n",
              "\n",
              "         8         9    10  \n",
              "0 -0.234932 -1.259934  0.0  \n",
              "1  1.363674  0.144932  0.0  \n",
              "2  0.031502 -1.259934  0.0  \n",
              "3 -1.034235  1.549798  0.0  \n",
              "4  1.363674  1.549798  0.0  "
            ],
            "text/html": [
              "\n",
              "  <div id=\"df-8bc01278-8127-4c68-97ef-b6c37e5e7a14\">\n",
              "    <div class=\"colab-df-container\">\n",
              "      <div>\n",
              "<style scoped>\n",
              "    .dataframe tbody tr th:only-of-type {\n",
              "        vertical-align: middle;\n",
              "    }\n",
              "\n",
              "    .dataframe tbody tr th {\n",
              "        vertical-align: top;\n",
              "    }\n",
              "\n",
              "    .dataframe thead th {\n",
              "        text-align: right;\n",
              "    }\n",
              "</style>\n",
              "<table border=\"1\" class=\"dataframe\">\n",
              "  <thead>\n",
              "    <tr style=\"text-align: right;\">\n",
              "      <th></th>\n",
              "      <th>0</th>\n",
              "      <th>1</th>\n",
              "      <th>2</th>\n",
              "      <th>3</th>\n",
              "      <th>4</th>\n",
              "      <th>5</th>\n",
              "      <th>6</th>\n",
              "      <th>7</th>\n",
              "      <th>8</th>\n",
              "      <th>9</th>\n",
              "      <th>10</th>\n",
              "    </tr>\n",
              "  </thead>\n",
              "  <tbody>\n",
              "    <tr>\n",
              "      <th>0</th>\n",
              "      <td>-0.410805</td>\n",
              "      <td>-1.658435</td>\n",
              "      <td>2.416778</td>\n",
              "      <td>1.237288</td>\n",
              "      <td>-1.467707</td>\n",
              "      <td>0.0</td>\n",
              "      <td>1.654268</td>\n",
              "      <td>-0.234932</td>\n",
              "      <td>-0.234932</td>\n",
              "      <td>-1.259934</td>\n",
              "      <td>0.0</td>\n",
              "    </tr>\n",
              "    <tr>\n",
              "      <th>1</th>\n",
              "      <td>-1.261152</td>\n",
              "      <td>0.890299</td>\n",
              "      <td>-0.973732</td>\n",
              "      <td>-1.475307</td>\n",
              "      <td>0.250153</td>\n",
              "      <td>0.0</td>\n",
              "      <td>-1.303000</td>\n",
              "      <td>1.363674</td>\n",
              "      <td>1.363674</td>\n",
              "      <td>0.144932</td>\n",
              "      <td>0.0</td>\n",
              "    </tr>\n",
              "    <tr>\n",
              "      <th>2</th>\n",
              "      <td>0.014369</td>\n",
              "      <td>0.040721</td>\n",
              "      <td>-0.295630</td>\n",
              "      <td>-0.531796</td>\n",
              "      <td>1.109082</td>\n",
              "      <td>0.0</td>\n",
              "      <td>-0.607172</td>\n",
              "      <td>0.031502</td>\n",
              "      <td>0.031502</td>\n",
              "      <td>-1.259934</td>\n",
              "      <td>0.0</td>\n",
              "    </tr>\n",
              "    <tr>\n",
              "      <th>3</th>\n",
              "      <td>-0.410805</td>\n",
              "      <td>0.890299</td>\n",
              "      <td>-0.973732</td>\n",
              "      <td>-0.177979</td>\n",
              "      <td>0.250153</td>\n",
              "      <td>0.0</td>\n",
              "      <td>0.958440</td>\n",
              "      <td>-1.034235</td>\n",
              "      <td>-1.034235</td>\n",
              "      <td>1.549798</td>\n",
              "      <td>0.0</td>\n",
              "    </tr>\n",
              "    <tr>\n",
              "      <th>4</th>\n",
              "      <td>-0.410805</td>\n",
              "      <td>-1.658435</td>\n",
              "      <td>2.416778</td>\n",
              "      <td>-1.475307</td>\n",
              "      <td>-1.467707</td>\n",
              "      <td>0.0</td>\n",
              "      <td>0.610527</td>\n",
              "      <td>1.363674</td>\n",
              "      <td>1.363674</td>\n",
              "      <td>1.549798</td>\n",
              "      <td>0.0</td>\n",
              "    </tr>\n",
              "  </tbody>\n",
              "</table>\n",
              "</div>\n",
              "      <button class=\"colab-df-convert\" onclick=\"convertToInteractive('df-8bc01278-8127-4c68-97ef-b6c37e5e7a14')\"\n",
              "              title=\"Convert this dataframe to an interactive table.\"\n",
              "              style=\"display:none;\">\n",
              "        \n",
              "  <svg xmlns=\"http://www.w3.org/2000/svg\" height=\"24px\"viewBox=\"0 0 24 24\"\n",
              "       width=\"24px\">\n",
              "    <path d=\"M0 0h24v24H0V0z\" fill=\"none\"/>\n",
              "    <path d=\"M18.56 5.44l.94 2.06.94-2.06 2.06-.94-2.06-.94-.94-2.06-.94 2.06-2.06.94zm-11 1L8.5 8.5l.94-2.06 2.06-.94-2.06-.94L8.5 2.5l-.94 2.06-2.06.94zm10 10l.94 2.06.94-2.06 2.06-.94-2.06-.94-.94-2.06-.94 2.06-2.06.94z\"/><path d=\"M17.41 7.96l-1.37-1.37c-.4-.4-.92-.59-1.43-.59-.52 0-1.04.2-1.43.59L10.3 9.45l-7.72 7.72c-.78.78-.78 2.05 0 2.83L4 21.41c.39.39.9.59 1.41.59.51 0 1.02-.2 1.41-.59l7.78-7.78 2.81-2.81c.8-.78.8-2.07 0-2.86zM5.41 20L4 18.59l7.72-7.72 1.47 1.35L5.41 20z\"/>\n",
              "  </svg>\n",
              "      </button>\n",
              "      \n",
              "  <style>\n",
              "    .colab-df-container {\n",
              "      display:flex;\n",
              "      flex-wrap:wrap;\n",
              "      gap: 12px;\n",
              "    }\n",
              "\n",
              "    .colab-df-convert {\n",
              "      background-color: #E8F0FE;\n",
              "      border: none;\n",
              "      border-radius: 50%;\n",
              "      cursor: pointer;\n",
              "      display: none;\n",
              "      fill: #1967D2;\n",
              "      height: 32px;\n",
              "      padding: 0 0 0 0;\n",
              "      width: 32px;\n",
              "    }\n",
              "\n",
              "    .colab-df-convert:hover {\n",
              "      background-color: #E2EBFA;\n",
              "      box-shadow: 0px 1px 2px rgba(60, 64, 67, 0.3), 0px 1px 3px 1px rgba(60, 64, 67, 0.15);\n",
              "      fill: #174EA6;\n",
              "    }\n",
              "\n",
              "    [theme=dark] .colab-df-convert {\n",
              "      background-color: #3B4455;\n",
              "      fill: #D2E3FC;\n",
              "    }\n",
              "\n",
              "    [theme=dark] .colab-df-convert:hover {\n",
              "      background-color: #434B5C;\n",
              "      box-shadow: 0px 1px 3px 1px rgba(0, 0, 0, 0.15);\n",
              "      filter: drop-shadow(0px 1px 2px rgba(0, 0, 0, 0.3));\n",
              "      fill: #FFFFFF;\n",
              "    }\n",
              "  </style>\n",
              "\n",
              "      <script>\n",
              "        const buttonEl =\n",
              "          document.querySelector('#df-8bc01278-8127-4c68-97ef-b6c37e5e7a14 button.colab-df-convert');\n",
              "        buttonEl.style.display =\n",
              "          google.colab.kernel.accessAllowed ? 'block' : 'none';\n",
              "\n",
              "        async function convertToInteractive(key) {\n",
              "          const element = document.querySelector('#df-8bc01278-8127-4c68-97ef-b6c37e5e7a14');\n",
              "          const dataTable =\n",
              "            await google.colab.kernel.invokeFunction('convertToInteractive',\n",
              "                                                     [key], {});\n",
              "          if (!dataTable) return;\n",
              "\n",
              "          const docLinkHtml = 'Like what you see? Visit the ' +\n",
              "            '<a target=\"_blank\" href=https://colab.research.google.com/notebooks/data_table.ipynb>data table notebook</a>'\n",
              "            + ' to learn more about interactive tables.';\n",
              "          element.innerHTML = '';\n",
              "          dataTable['output_type'] = 'display_data';\n",
              "          await google.colab.output.renderOutput(dataTable, element);\n",
              "          const docLink = document.createElement('div');\n",
              "          docLink.innerHTML = docLinkHtml;\n",
              "          element.appendChild(docLink);\n",
              "        }\n",
              "      </script>\n",
              "    </div>\n",
              "  </div>\n",
              "  "
            ]
          },
          "metadata": {},
          "execution_count": 256
        }
      ]
    },
    {
      "cell_type": "code",
      "source": [
        "from sklearn.model_selection import train_test_split\n",
        "x_train,x_test,y_train,y_test=train_test_split(x,y,test_size=0.2, random_state=42)"
      ],
      "metadata": {
        "id": "ItDCmVfU3QX5"
      },
      "execution_count": 257,
      "outputs": []
    },
    {
      "cell_type": "code",
      "source": [
        "x_train.head()"
      ],
      "metadata": {
        "id": "w_vjEmSg44WO",
        "colab": {
          "base_uri": "https://localhost:8080/",
          "height": 206
        },
        "outputId": "a120827e-0cc3-4111-f3c2-d476981fabcd"
      },
      "execution_count": 258,
      "outputs": [
        {
          "output_type": "execute_result",
          "data": {
            "text/plain": [
              "       Airline  Source  Destination  Date  Month  Year  Dep_Time_Hour  \\\n",
              "10005        6       2            1    27      5  2019              8   \n",
              "3684         4       2            1     9      5  2019             11   \n",
              "1034         8       2            1    24      4  2019             15   \n",
              "3909         6       2            1    21      3  2019             12   \n",
              "3088         1       2            1    24      6  2019             17   \n",
              "\n",
              "       Dep_Time_Mins  Dep_Time_Mins  Arrival_date  Arrival_Time_Mins  \n",
              "10005             30             30             1                 -1  \n",
              "3684              30             30             1                 -1  \n",
              "1034              45             45             2                 -1  \n",
              "3909              50             50             0                 -1  \n",
              "3088              15             15             1                 -1  "
            ],
            "text/html": [
              "\n",
              "  <div id=\"df-0213bd90-e5b3-424e-bf42-49eb16f62444\">\n",
              "    <div class=\"colab-df-container\">\n",
              "      <div>\n",
              "<style scoped>\n",
              "    .dataframe tbody tr th:only-of-type {\n",
              "        vertical-align: middle;\n",
              "    }\n",
              "\n",
              "    .dataframe tbody tr th {\n",
              "        vertical-align: top;\n",
              "    }\n",
              "\n",
              "    .dataframe thead th {\n",
              "        text-align: right;\n",
              "    }\n",
              "</style>\n",
              "<table border=\"1\" class=\"dataframe\">\n",
              "  <thead>\n",
              "    <tr style=\"text-align: right;\">\n",
              "      <th></th>\n",
              "      <th>Airline</th>\n",
              "      <th>Source</th>\n",
              "      <th>Destination</th>\n",
              "      <th>Date</th>\n",
              "      <th>Month</th>\n",
              "      <th>Year</th>\n",
              "      <th>Dep_Time_Hour</th>\n",
              "      <th>Dep_Time_Mins</th>\n",
              "      <th>Dep_Time_Mins</th>\n",
              "      <th>Arrival_date</th>\n",
              "      <th>Arrival_Time_Mins</th>\n",
              "    </tr>\n",
              "  </thead>\n",
              "  <tbody>\n",
              "    <tr>\n",
              "      <th>10005</th>\n",
              "      <td>6</td>\n",
              "      <td>2</td>\n",
              "      <td>1</td>\n",
              "      <td>27</td>\n",
              "      <td>5</td>\n",
              "      <td>2019</td>\n",
              "      <td>8</td>\n",
              "      <td>30</td>\n",
              "      <td>30</td>\n",
              "      <td>1</td>\n",
              "      <td>-1</td>\n",
              "    </tr>\n",
              "    <tr>\n",
              "      <th>3684</th>\n",
              "      <td>4</td>\n",
              "      <td>2</td>\n",
              "      <td>1</td>\n",
              "      <td>9</td>\n",
              "      <td>5</td>\n",
              "      <td>2019</td>\n",
              "      <td>11</td>\n",
              "      <td>30</td>\n",
              "      <td>30</td>\n",
              "      <td>1</td>\n",
              "      <td>-1</td>\n",
              "    </tr>\n",
              "    <tr>\n",
              "      <th>1034</th>\n",
              "      <td>8</td>\n",
              "      <td>2</td>\n",
              "      <td>1</td>\n",
              "      <td>24</td>\n",
              "      <td>4</td>\n",
              "      <td>2019</td>\n",
              "      <td>15</td>\n",
              "      <td>45</td>\n",
              "      <td>45</td>\n",
              "      <td>2</td>\n",
              "      <td>-1</td>\n",
              "    </tr>\n",
              "    <tr>\n",
              "      <th>3909</th>\n",
              "      <td>6</td>\n",
              "      <td>2</td>\n",
              "      <td>1</td>\n",
              "      <td>21</td>\n",
              "      <td>3</td>\n",
              "      <td>2019</td>\n",
              "      <td>12</td>\n",
              "      <td>50</td>\n",
              "      <td>50</td>\n",
              "      <td>0</td>\n",
              "      <td>-1</td>\n",
              "    </tr>\n",
              "    <tr>\n",
              "      <th>3088</th>\n",
              "      <td>1</td>\n",
              "      <td>2</td>\n",
              "      <td>1</td>\n",
              "      <td>24</td>\n",
              "      <td>6</td>\n",
              "      <td>2019</td>\n",
              "      <td>17</td>\n",
              "      <td>15</td>\n",
              "      <td>15</td>\n",
              "      <td>1</td>\n",
              "      <td>-1</td>\n",
              "    </tr>\n",
              "  </tbody>\n",
              "</table>\n",
              "</div>\n",
              "      <button class=\"colab-df-convert\" onclick=\"convertToInteractive('df-0213bd90-e5b3-424e-bf42-49eb16f62444')\"\n",
              "              title=\"Convert this dataframe to an interactive table.\"\n",
              "              style=\"display:none;\">\n",
              "        \n",
              "  <svg xmlns=\"http://www.w3.org/2000/svg\" height=\"24px\"viewBox=\"0 0 24 24\"\n",
              "       width=\"24px\">\n",
              "    <path d=\"M0 0h24v24H0V0z\" fill=\"none\"/>\n",
              "    <path d=\"M18.56 5.44l.94 2.06.94-2.06 2.06-.94-2.06-.94-.94-2.06-.94 2.06-2.06.94zm-11 1L8.5 8.5l.94-2.06 2.06-.94-2.06-.94L8.5 2.5l-.94 2.06-2.06.94zm10 10l.94 2.06.94-2.06 2.06-.94-2.06-.94-.94-2.06-.94 2.06-2.06.94z\"/><path d=\"M17.41 7.96l-1.37-1.37c-.4-.4-.92-.59-1.43-.59-.52 0-1.04.2-1.43.59L10.3 9.45l-7.72 7.72c-.78.78-.78 2.05 0 2.83L4 21.41c.39.39.9.59 1.41.59.51 0 1.02-.2 1.41-.59l7.78-7.78 2.81-2.81c.8-.78.8-2.07 0-2.86zM5.41 20L4 18.59l7.72-7.72 1.47 1.35L5.41 20z\"/>\n",
              "  </svg>\n",
              "      </button>\n",
              "      \n",
              "  <style>\n",
              "    .colab-df-container {\n",
              "      display:flex;\n",
              "      flex-wrap:wrap;\n",
              "      gap: 12px;\n",
              "    }\n",
              "\n",
              "    .colab-df-convert {\n",
              "      background-color: #E8F0FE;\n",
              "      border: none;\n",
              "      border-radius: 50%;\n",
              "      cursor: pointer;\n",
              "      display: none;\n",
              "      fill: #1967D2;\n",
              "      height: 32px;\n",
              "      padding: 0 0 0 0;\n",
              "      width: 32px;\n",
              "    }\n",
              "\n",
              "    .colab-df-convert:hover {\n",
              "      background-color: #E2EBFA;\n",
              "      box-shadow: 0px 1px 2px rgba(60, 64, 67, 0.3), 0px 1px 3px 1px rgba(60, 64, 67, 0.15);\n",
              "      fill: #174EA6;\n",
              "    }\n",
              "\n",
              "    [theme=dark] .colab-df-convert {\n",
              "      background-color: #3B4455;\n",
              "      fill: #D2E3FC;\n",
              "    }\n",
              "\n",
              "    [theme=dark] .colab-df-convert:hover {\n",
              "      background-color: #434B5C;\n",
              "      box-shadow: 0px 1px 3px 1px rgba(0, 0, 0, 0.15);\n",
              "      filter: drop-shadow(0px 1px 2px rgba(0, 0, 0, 0.3));\n",
              "      fill: #FFFFFF;\n",
              "    }\n",
              "  </style>\n",
              "\n",
              "      <script>\n",
              "        const buttonEl =\n",
              "          document.querySelector('#df-0213bd90-e5b3-424e-bf42-49eb16f62444 button.colab-df-convert');\n",
              "        buttonEl.style.display =\n",
              "          google.colab.kernel.accessAllowed ? 'block' : 'none';\n",
              "\n",
              "        async function convertToInteractive(key) {\n",
              "          const element = document.querySelector('#df-0213bd90-e5b3-424e-bf42-49eb16f62444');\n",
              "          const dataTable =\n",
              "            await google.colab.kernel.invokeFunction('convertToInteractive',\n",
              "                                                     [key], {});\n",
              "          if (!dataTable) return;\n",
              "\n",
              "          const docLinkHtml = 'Like what you see? Visit the ' +\n",
              "            '<a target=\"_blank\" href=https://colab.research.google.com/notebooks/data_table.ipynb>data table notebook</a>'\n",
              "            + ' to learn more about interactive tables.';\n",
              "          element.innerHTML = '';\n",
              "          dataTable['output_type'] = 'display_data';\n",
              "          await google.colab.output.renderOutput(dataTable, element);\n",
              "          const docLink = document.createElement('div');\n",
              "          docLink.innerHTML = docLinkHtml;\n",
              "          element.appendChild(docLink);\n",
              "        }\n",
              "      </script>\n",
              "    </div>\n",
              "  </div>\n",
              "  "
            ]
          },
          "metadata": {},
          "execution_count": 258
        }
      ]
    },
    {
      "cell_type": "code",
      "source": [
        "from sklearn.ensemble import RandomForestRegressor, GradientBoostingRegressor, AdaBoostRegressor\n",
        "rfr=RandomForestRegressor()\n",
        "gb=GradientBoostingRegressor()\n",
        "ad=AdaBoostRegressor()"
      ],
      "metadata": {
        "id": "zItBC1Tc5G5f"
      },
      "execution_count": 259,
      "outputs": []
    },
    {
      "cell_type": "code",
      "source": [
        "from sklearn.metrics import r2_score, mean_absolute_error, mean_squared_error\n",
        "\n",
        "for i in [rfr, gb, ad]:\n",
        "    i.fit(x_train, y_train)\n",
        "    y_pred = i.predict(x_test)\n",
        "    test_score = r2_score(y_test, y_pred)\n",
        "    train_score = r2_score(y_train, i.predict(x_train))\n",
        "    \n",
        "    if abs(train_score - test_score) <= 0.2:\n",
        "        print(i)\n",
        "        print(\"R2 score is\", test_score)\n",
        "        print(\"R2 for train data\", train_score)\n",
        "        print(\"Mean Absolute Error is\", mean_absolute_error(y_pred, y_test))\n",
        "        print(\"Mean Squared Error is\", mean_squared_error(y_pred, y_test))\n",
        "        print(\"Root Mean Absolute Error is\", mean_squared_error(y_pred, y_test, squared=False))\n"
      ],
      "metadata": {
        "colab": {
          "base_uri": "https://localhost:8080/"
        },
        "id": "-IeTVGDto468",
        "outputId": "60faf44b-9a9c-4bcb-cca0-40ea2d4e1a89"
      },
      "execution_count": 260,
      "outputs": [
        {
          "output_type": "stream",
          "name": "stdout",
          "text": [
            "RandomForestRegressor()\n",
            "R2 score is 0.8325520358773889\n",
            "R2 for train data 0.9166123223251975\n",
            "Mean Absolute Error is 1256.497222168674\n",
            "Mean Squared Error is 3539686.186451974\n",
            "Root Mean Absolute Error is 1881.4053753649089\n",
            "GradientBoostingRegressor()\n",
            "R2 score is 0.7583288549036917\n",
            "R2 for train data 0.7201256296668721\n",
            "Mean Absolute Error is 1702.9792974505065\n",
            "Mean Squared Error is 5108691.6370930085\n",
            "Root Mean Absolute Error is 2260.241499728073\n",
            "AdaBoostRegressor()\n",
            "R2 score is 0.3711750822091294\n",
            "R2 for train data 0.37336980573966616\n",
            "Mean Absolute Error is 2858.7024368008133\n",
            "Mean Squared Error is 13292743.730053985\n",
            "Root Mean Absolute Error is 3645.9215200075255\n"
          ]
        }
      ]
    },
    {
      "cell_type": "code",
      "source": [
        "from sklearn.neighbors import KNeighborsRegressor\n",
        "from sklearn.svm import SVR\n",
        "from sklearn.tree import DecisionTreeRegressor\n",
        "\n",
        "from sklearn.metrics import r2_score,mean_absolute_error,mean_squared_error\n",
        "\n",
        "knn=KNeighborsRegressor()\n",
        "svr=SVR()\n",
        "dt=DecisionTreeRegressor()\n",
        "for i in [knn,svr,dt]: \n",
        "    i.fit(x_train,y_train)\n",
        "    y_pred=i.predict(x_test) \n",
        "    test_score=r2_score (y_test,y_pred)\n",
        "    train_score=r2_score(y_train,i.predict(x_train))\n",
        "    if abs(train_score-test_score)<=0.1: \n",
        "        print(i)\n",
        "        print('R2 Score is',r2_score(y_test,y_pred))\n",
        "        print('R2 Score for train data',r2_score(y_train,i.predict(x_train))) \n",
        "        print('Mean Absolute Error is', mean_absolute_error(y_test,y_pred))\n",
        "        print('Mean Squared Error is',mean_squared_error(y_test,y_pred)) \n",
        "        print('Root Mean Squared Error is', (mean_squared_error(y_test,y_pred,squared=False)))"
      ],
      "metadata": {
        "colab": {
          "base_uri": "https://localhost:8080/"
        },
        "id": "-vMf5DiVq-di",
        "outputId": "0af33bd4-9b5b-4414-ee47-24f59d39d2c4"
      },
      "execution_count": 261,
      "outputs": [
        {
          "output_type": "stream",
          "name": "stdout",
          "text": [
            "SVR()\n",
            "R2 Score is -0.03013354967209958\n",
            "R2 Score for train data -0.023073979568290603\n",
            "Mean Absolute Error is 3629.626455858667\n",
            "Mean Squared Error is 21776015.701839704\n",
            "Root Mean Squared Error is 4666.477868997099\n"
          ]
        }
      ]
    },
    {
      "cell_type": "code",
      "source": [
        "from sklearn.model_selection import cross_val_score\n",
        "for i in range(2,5):\n",
        "    cv=cross_val_score(rfr,x,y,cv=i)\n",
        "    print(rfr,cv.mean())"
      ],
      "metadata": {
        "colab": {
          "base_uri": "https://localhost:8080/"
        },
        "id": "zy2nkZppyeal",
        "outputId": "c3bdb86e-c26e-4a93-ba09-59e95002d4b7"
      },
      "execution_count": 262,
      "outputs": [
        {
          "output_type": "stream",
          "name": "stdout",
          "text": [
            "RandomForestRegressor() 0.7695420864786802\n",
            "RandomForestRegressor() 0.7630071648975146\n",
            "RandomForestRegressor() 0.778953794853236\n"
          ]
        }
      ]
    },
    {
      "cell_type": "code",
      "source": [
        "from sklearn.model_selection import RandomizedSearchCV"
      ],
      "metadata": {
        "id": "JL6iCeEv0Ey3"
      },
      "execution_count": 263,
      "outputs": []
    },
    {
      "cell_type": "code",
      "source": [
        "param_grid={'n_estimators': [10,30,50,70,100],\"max_depth\": [None,1,2,3],\n",
        "'max_features':['auto', 'sqrt']}\n",
        "rfr=RandomForestRegressor()\n",
        "rf_res=RandomizedSearchCV(estimator=rfr, param_distributions=param_grid,cv=3,verbose=2,n_jobs=-1)\n",
        "\n",
        "rf_res.fit(x_train,y_train)"
      ],
      "metadata": {
        "colab": {
          "base_uri": "https://localhost:8080/",
          "height": 137
        },
        "id": "Q5XGVx1c1_Qv",
        "outputId": "d42c17a4-6d9b-459d-e1e6-d8d5771a3a53"
      },
      "execution_count": 264,
      "outputs": [
        {
          "output_type": "stream",
          "name": "stdout",
          "text": [
            "Fitting 3 folds for each of 10 candidates, totalling 30 fits\n"
          ]
        },
        {
          "output_type": "execute_result",
          "data": {
            "text/plain": [
              "RandomizedSearchCV(cv=3, estimator=RandomForestRegressor(), n_jobs=-1,\n",
              "                   param_distributions={'max_depth': [None, 1, 2, 3],\n",
              "                                        'max_features': ['auto', 'sqrt'],\n",
              "                                        'n_estimators': [10, 30, 50, 70, 100]},\n",
              "                   verbose=2)"
            ],
            "text/html": [
              "<style>#sk-container-id-7 {color: black;background-color: white;}#sk-container-id-7 pre{padding: 0;}#sk-container-id-7 div.sk-toggleable {background-color: white;}#sk-container-id-7 label.sk-toggleable__label {cursor: pointer;display: block;width: 100%;margin-bottom: 0;padding: 0.3em;box-sizing: border-box;text-align: center;}#sk-container-id-7 label.sk-toggleable__label-arrow:before {content: \"▸\";float: left;margin-right: 0.25em;color: #696969;}#sk-container-id-7 label.sk-toggleable__label-arrow:hover:before {color: black;}#sk-container-id-7 div.sk-estimator:hover label.sk-toggleable__label-arrow:before {color: black;}#sk-container-id-7 div.sk-toggleable__content {max-height: 0;max-width: 0;overflow: hidden;text-align: left;background-color: #f0f8ff;}#sk-container-id-7 div.sk-toggleable__content pre {margin: 0.2em;color: black;border-radius: 0.25em;background-color: #f0f8ff;}#sk-container-id-7 input.sk-toggleable__control:checked~div.sk-toggleable__content {max-height: 200px;max-width: 100%;overflow: auto;}#sk-container-id-7 input.sk-toggleable__control:checked~label.sk-toggleable__label-arrow:before {content: \"▾\";}#sk-container-id-7 div.sk-estimator input.sk-toggleable__control:checked~label.sk-toggleable__label {background-color: #d4ebff;}#sk-container-id-7 div.sk-label input.sk-toggleable__control:checked~label.sk-toggleable__label {background-color: #d4ebff;}#sk-container-id-7 input.sk-hidden--visually {border: 0;clip: rect(1px 1px 1px 1px);clip: rect(1px, 1px, 1px, 1px);height: 1px;margin: -1px;overflow: hidden;padding: 0;position: absolute;width: 1px;}#sk-container-id-7 div.sk-estimator {font-family: monospace;background-color: #f0f8ff;border: 1px dotted black;border-radius: 0.25em;box-sizing: border-box;margin-bottom: 0.5em;}#sk-container-id-7 div.sk-estimator:hover {background-color: #d4ebff;}#sk-container-id-7 div.sk-parallel-item::after {content: \"\";width: 100%;border-bottom: 1px solid gray;flex-grow: 1;}#sk-container-id-7 div.sk-label:hover label.sk-toggleable__label {background-color: #d4ebff;}#sk-container-id-7 div.sk-serial::before {content: \"\";position: absolute;border-left: 1px solid gray;box-sizing: border-box;top: 0;bottom: 0;left: 50%;z-index: 0;}#sk-container-id-7 div.sk-serial {display: flex;flex-direction: column;align-items: center;background-color: white;padding-right: 0.2em;padding-left: 0.2em;position: relative;}#sk-container-id-7 div.sk-item {position: relative;z-index: 1;}#sk-container-id-7 div.sk-parallel {display: flex;align-items: stretch;justify-content: center;background-color: white;position: relative;}#sk-container-id-7 div.sk-item::before, #sk-container-id-7 div.sk-parallel-item::before {content: \"\";position: absolute;border-left: 1px solid gray;box-sizing: border-box;top: 0;bottom: 0;left: 50%;z-index: -1;}#sk-container-id-7 div.sk-parallel-item {display: flex;flex-direction: column;z-index: 1;position: relative;background-color: white;}#sk-container-id-7 div.sk-parallel-item:first-child::after {align-self: flex-end;width: 50%;}#sk-container-id-7 div.sk-parallel-item:last-child::after {align-self: flex-start;width: 50%;}#sk-container-id-7 div.sk-parallel-item:only-child::after {width: 0;}#sk-container-id-7 div.sk-dashed-wrapped {border: 1px dashed gray;margin: 0 0.4em 0.5em 0.4em;box-sizing: border-box;padding-bottom: 0.4em;background-color: white;}#sk-container-id-7 div.sk-label label {font-family: monospace;font-weight: bold;display: inline-block;line-height: 1.2em;}#sk-container-id-7 div.sk-label-container {text-align: center;}#sk-container-id-7 div.sk-container {/* jupyter's `normalize.less` sets `[hidden] { display: none; }` but bootstrap.min.css set `[hidden] { display: none !important; }` so we also need the `!important` here to be able to override the default hidden behavior on the sphinx rendered scikit-learn.org. See: https://github.com/scikit-learn/scikit-learn/issues/21755 */display: inline-block !important;position: relative;}#sk-container-id-7 div.sk-text-repr-fallback {display: none;}</style><div id=\"sk-container-id-7\" class=\"sk-top-container\"><div class=\"sk-text-repr-fallback\"><pre>RandomizedSearchCV(cv=3, estimator=RandomForestRegressor(), n_jobs=-1,\n",
              "                   param_distributions={&#x27;max_depth&#x27;: [None, 1, 2, 3],\n",
              "                                        &#x27;max_features&#x27;: [&#x27;auto&#x27;, &#x27;sqrt&#x27;],\n",
              "                                        &#x27;n_estimators&#x27;: [10, 30, 50, 70, 100]},\n",
              "                   verbose=2)</pre><b>In a Jupyter environment, please rerun this cell to show the HTML representation or trust the notebook. <br />On GitHub, the HTML representation is unable to render, please try loading this page with nbviewer.org.</b></div><div class=\"sk-container\" hidden><div class=\"sk-item sk-dashed-wrapped\"><div class=\"sk-label-container\"><div class=\"sk-label sk-toggleable\"><input class=\"sk-toggleable__control sk-hidden--visually\" id=\"sk-estimator-id-19\" type=\"checkbox\" ><label for=\"sk-estimator-id-19\" class=\"sk-toggleable__label sk-toggleable__label-arrow\">RandomizedSearchCV</label><div class=\"sk-toggleable__content\"><pre>RandomizedSearchCV(cv=3, estimator=RandomForestRegressor(), n_jobs=-1,\n",
              "                   param_distributions={&#x27;max_depth&#x27;: [None, 1, 2, 3],\n",
              "                                        &#x27;max_features&#x27;: [&#x27;auto&#x27;, &#x27;sqrt&#x27;],\n",
              "                                        &#x27;n_estimators&#x27;: [10, 30, 50, 70, 100]},\n",
              "                   verbose=2)</pre></div></div></div><div class=\"sk-parallel\"><div class=\"sk-parallel-item\"><div class=\"sk-item\"><div class=\"sk-label-container\"><div class=\"sk-label sk-toggleable\"><input class=\"sk-toggleable__control sk-hidden--visually\" id=\"sk-estimator-id-20\" type=\"checkbox\" ><label for=\"sk-estimator-id-20\" class=\"sk-toggleable__label sk-toggleable__label-arrow\">estimator: RandomForestRegressor</label><div class=\"sk-toggleable__content\"><pre>RandomForestRegressor()</pre></div></div></div><div class=\"sk-serial\"><div class=\"sk-item\"><div class=\"sk-estimator sk-toggleable\"><input class=\"sk-toggleable__control sk-hidden--visually\" id=\"sk-estimator-id-21\" type=\"checkbox\" ><label for=\"sk-estimator-id-21\" class=\"sk-toggleable__label sk-toggleable__label-arrow\">RandomForestRegressor</label><div class=\"sk-toggleable__content\"><pre>RandomForestRegressor()</pre></div></div></div></div></div></div></div></div></div></div>"
            ]
          },
          "metadata": {},
          "execution_count": 264
        }
      ]
    },
    {
      "cell_type": "code",
      "source": [
        "gb=GradientBoostingRegressor()\n",
        "gb_res=RandomizedSearchCV(estimator=gb, param_distributions=param_grid, cv=3, verbose=2,n_jobs=-1)\n",
        "\n",
        "gb_res.fit(x_train,y_train)"
      ],
      "metadata": {
        "colab": {
          "base_uri": "https://localhost:8080/",
          "height": 137
        },
        "id": "SVn_prKD25iA",
        "outputId": "40ce8261-18b7-4ef3-cd95-4f7604fa3321"
      },
      "execution_count": 265,
      "outputs": [
        {
          "output_type": "stream",
          "name": "stdout",
          "text": [
            "Fitting 3 folds for each of 10 candidates, totalling 30 fits\n"
          ]
        },
        {
          "output_type": "execute_result",
          "data": {
            "text/plain": [
              "RandomizedSearchCV(cv=3, estimator=GradientBoostingRegressor(), n_jobs=-1,\n",
              "                   param_distributions={'max_depth': [None, 1, 2, 3],\n",
              "                                        'max_features': ['auto', 'sqrt'],\n",
              "                                        'n_estimators': [10, 30, 50, 70, 100]},\n",
              "                   verbose=2)"
            ],
            "text/html": [
              "<style>#sk-container-id-8 {color: black;background-color: white;}#sk-container-id-8 pre{padding: 0;}#sk-container-id-8 div.sk-toggleable {background-color: white;}#sk-container-id-8 label.sk-toggleable__label {cursor: pointer;display: block;width: 100%;margin-bottom: 0;padding: 0.3em;box-sizing: border-box;text-align: center;}#sk-container-id-8 label.sk-toggleable__label-arrow:before {content: \"▸\";float: left;margin-right: 0.25em;color: #696969;}#sk-container-id-8 label.sk-toggleable__label-arrow:hover:before {color: black;}#sk-container-id-8 div.sk-estimator:hover label.sk-toggleable__label-arrow:before {color: black;}#sk-container-id-8 div.sk-toggleable__content {max-height: 0;max-width: 0;overflow: hidden;text-align: left;background-color: #f0f8ff;}#sk-container-id-8 div.sk-toggleable__content pre {margin: 0.2em;color: black;border-radius: 0.25em;background-color: #f0f8ff;}#sk-container-id-8 input.sk-toggleable__control:checked~div.sk-toggleable__content {max-height: 200px;max-width: 100%;overflow: auto;}#sk-container-id-8 input.sk-toggleable__control:checked~label.sk-toggleable__label-arrow:before {content: \"▾\";}#sk-container-id-8 div.sk-estimator input.sk-toggleable__control:checked~label.sk-toggleable__label {background-color: #d4ebff;}#sk-container-id-8 div.sk-label input.sk-toggleable__control:checked~label.sk-toggleable__label {background-color: #d4ebff;}#sk-container-id-8 input.sk-hidden--visually {border: 0;clip: rect(1px 1px 1px 1px);clip: rect(1px, 1px, 1px, 1px);height: 1px;margin: -1px;overflow: hidden;padding: 0;position: absolute;width: 1px;}#sk-container-id-8 div.sk-estimator {font-family: monospace;background-color: #f0f8ff;border: 1px dotted black;border-radius: 0.25em;box-sizing: border-box;margin-bottom: 0.5em;}#sk-container-id-8 div.sk-estimator:hover {background-color: #d4ebff;}#sk-container-id-8 div.sk-parallel-item::after {content: \"\";width: 100%;border-bottom: 1px solid gray;flex-grow: 1;}#sk-container-id-8 div.sk-label:hover label.sk-toggleable__label {background-color: #d4ebff;}#sk-container-id-8 div.sk-serial::before {content: \"\";position: absolute;border-left: 1px solid gray;box-sizing: border-box;top: 0;bottom: 0;left: 50%;z-index: 0;}#sk-container-id-8 div.sk-serial {display: flex;flex-direction: column;align-items: center;background-color: white;padding-right: 0.2em;padding-left: 0.2em;position: relative;}#sk-container-id-8 div.sk-item {position: relative;z-index: 1;}#sk-container-id-8 div.sk-parallel {display: flex;align-items: stretch;justify-content: center;background-color: white;position: relative;}#sk-container-id-8 div.sk-item::before, #sk-container-id-8 div.sk-parallel-item::before {content: \"\";position: absolute;border-left: 1px solid gray;box-sizing: border-box;top: 0;bottom: 0;left: 50%;z-index: -1;}#sk-container-id-8 div.sk-parallel-item {display: flex;flex-direction: column;z-index: 1;position: relative;background-color: white;}#sk-container-id-8 div.sk-parallel-item:first-child::after {align-self: flex-end;width: 50%;}#sk-container-id-8 div.sk-parallel-item:last-child::after {align-self: flex-start;width: 50%;}#sk-container-id-8 div.sk-parallel-item:only-child::after {width: 0;}#sk-container-id-8 div.sk-dashed-wrapped {border: 1px dashed gray;margin: 0 0.4em 0.5em 0.4em;box-sizing: border-box;padding-bottom: 0.4em;background-color: white;}#sk-container-id-8 div.sk-label label {font-family: monospace;font-weight: bold;display: inline-block;line-height: 1.2em;}#sk-container-id-8 div.sk-label-container {text-align: center;}#sk-container-id-8 div.sk-container {/* jupyter's `normalize.less` sets `[hidden] { display: none; }` but bootstrap.min.css set `[hidden] { display: none !important; }` so we also need the `!important` here to be able to override the default hidden behavior on the sphinx rendered scikit-learn.org. See: https://github.com/scikit-learn/scikit-learn/issues/21755 */display: inline-block !important;position: relative;}#sk-container-id-8 div.sk-text-repr-fallback {display: none;}</style><div id=\"sk-container-id-8\" class=\"sk-top-container\"><div class=\"sk-text-repr-fallback\"><pre>RandomizedSearchCV(cv=3, estimator=GradientBoostingRegressor(), n_jobs=-1,\n",
              "                   param_distributions={&#x27;max_depth&#x27;: [None, 1, 2, 3],\n",
              "                                        &#x27;max_features&#x27;: [&#x27;auto&#x27;, &#x27;sqrt&#x27;],\n",
              "                                        &#x27;n_estimators&#x27;: [10, 30, 50, 70, 100]},\n",
              "                   verbose=2)</pre><b>In a Jupyter environment, please rerun this cell to show the HTML representation or trust the notebook. <br />On GitHub, the HTML representation is unable to render, please try loading this page with nbviewer.org.</b></div><div class=\"sk-container\" hidden><div class=\"sk-item sk-dashed-wrapped\"><div class=\"sk-label-container\"><div class=\"sk-label sk-toggleable\"><input class=\"sk-toggleable__control sk-hidden--visually\" id=\"sk-estimator-id-22\" type=\"checkbox\" ><label for=\"sk-estimator-id-22\" class=\"sk-toggleable__label sk-toggleable__label-arrow\">RandomizedSearchCV</label><div class=\"sk-toggleable__content\"><pre>RandomizedSearchCV(cv=3, estimator=GradientBoostingRegressor(), n_jobs=-1,\n",
              "                   param_distributions={&#x27;max_depth&#x27;: [None, 1, 2, 3],\n",
              "                                        &#x27;max_features&#x27;: [&#x27;auto&#x27;, &#x27;sqrt&#x27;],\n",
              "                                        &#x27;n_estimators&#x27;: [10, 30, 50, 70, 100]},\n",
              "                   verbose=2)</pre></div></div></div><div class=\"sk-parallel\"><div class=\"sk-parallel-item\"><div class=\"sk-item\"><div class=\"sk-label-container\"><div class=\"sk-label sk-toggleable\"><input class=\"sk-toggleable__control sk-hidden--visually\" id=\"sk-estimator-id-23\" type=\"checkbox\" ><label for=\"sk-estimator-id-23\" class=\"sk-toggleable__label sk-toggleable__label-arrow\">estimator: GradientBoostingRegressor</label><div class=\"sk-toggleable__content\"><pre>GradientBoostingRegressor()</pre></div></div></div><div class=\"sk-serial\"><div class=\"sk-item\"><div class=\"sk-estimator sk-toggleable\"><input class=\"sk-toggleable__control sk-hidden--visually\" id=\"sk-estimator-id-24\" type=\"checkbox\" ><label for=\"sk-estimator-id-24\" class=\"sk-toggleable__label sk-toggleable__label-arrow\">GradientBoostingRegressor</label><div class=\"sk-toggleable__content\"><pre>GradientBoostingRegressor()</pre></div></div></div></div></div></div></div></div></div></div>"
            ]
          },
          "metadata": {},
          "execution_count": 265
        }
      ]
    },
    {
      "cell_type": "code",
      "source": [
        "rfr=RandomForestRegressor(n_estimators=10,max_features=\"sqrt\",max_depth=None)\n",
        "rfr.fit(x_train,y_train)\n",
        "y_train_pred=rfr.predict(x_train)\n",
        "y_test_pred=rfr.predict(x_test)\n",
        "print(\"train accuracy\",r2_score(y_train_pred,y_train)) \n",
        "print(\"test accuracy\",r2_score(y_test_pred,y_test))"
      ],
      "metadata": {
        "id": "RR4GguCG3lb-",
        "colab": {
          "base_uri": "https://localhost:8080/"
        },
        "outputId": "93bf9abd-beb6-4d69-c36c-987cc7738404"
      },
      "execution_count": 266,
      "outputs": [
        {
          "output_type": "stream",
          "name": "stdout",
          "text": [
            "train accuracy 0.8930239693629554\n",
            "test accuracy 0.7753610012017177\n"
          ]
        }
      ]
    },
    {
      "cell_type": "code",
      "source": [
        "knn=KNeighborsRegressor (n_neighbors=2, algorithm=\"auto\", metric_params=None,n_jobs=-1)\n",
        "knn.fit(x_train,y_train)\n",
        "y_train_pred=knn.predict(x_train) \n",
        "y_test_pred=knn.predict(x_test)\n",
        "print(\"train accuracy\", r2_score (y_train_pred,y_train))\n",
        "print(\"test accuracy\",r2_score(y_test_pred,y_test))"
      ],
      "metadata": {
        "colab": {
          "base_uri": "https://localhost:8080/"
        },
        "id": "X-JAByp1fflw",
        "outputId": "6ce71294-5895-461e-8dad-4fbacec83cc3"
      },
      "execution_count": 267,
      "outputs": [
        {
          "output_type": "stream",
          "name": "stdout",
          "text": [
            "train accuracy 0.8034721955397092\n",
            "test accuracy 0.4700282382957821\n"
          ]
        }
      ]
    },
    {
      "cell_type": "code",
      "source": [
        "Price=y_train_pred"
      ],
      "metadata": {
        "id": "2XzxpSFjmM-l"
      },
      "execution_count": 268,
      "outputs": []
    },
    {
      "cell_type": "code",
      "source": [
        "price_list=pd.DataFrame({'Price':Price})"
      ],
      "metadata": {
        "id": "Xwerqr77f0PE"
      },
      "execution_count": 269,
      "outputs": []
    },
    {
      "cell_type": "code",
      "source": [
        "price_list"
      ],
      "metadata": {
        "colab": {
          "base_uri": "https://localhost:8080/",
          "height": 423
        },
        "id": "DAEunLKjmkCt",
        "outputId": "0ada8675-f873-4ba2-e4a0-1049df0f7385"
      },
      "execution_count": 270,
      "outputs": [
        {
          "output_type": "execute_result",
          "data": {
            "text/plain": [
              "        Price\n",
              "0      9232.0\n",
              "1     13963.5\n",
              "2      5583.0\n",
              "3      7590.0\n",
              "4     11980.5\n",
              "...       ...\n",
              "8540  12347.0\n",
              "8541  14781.0\n",
              "8542   7968.0\n",
              "8543   4449.0\n",
              "8544   4864.0\n",
              "\n",
              "[8545 rows x 1 columns]"
            ],
            "text/html": [
              "\n",
              "  <div id=\"df-04cd4c2d-1e38-447b-81dd-81ac39cca954\">\n",
              "    <div class=\"colab-df-container\">\n",
              "      <div>\n",
              "<style scoped>\n",
              "    .dataframe tbody tr th:only-of-type {\n",
              "        vertical-align: middle;\n",
              "    }\n",
              "\n",
              "    .dataframe tbody tr th {\n",
              "        vertical-align: top;\n",
              "    }\n",
              "\n",
              "    .dataframe thead th {\n",
              "        text-align: right;\n",
              "    }\n",
              "</style>\n",
              "<table border=\"1\" class=\"dataframe\">\n",
              "  <thead>\n",
              "    <tr style=\"text-align: right;\">\n",
              "      <th></th>\n",
              "      <th>Price</th>\n",
              "    </tr>\n",
              "  </thead>\n",
              "  <tbody>\n",
              "    <tr>\n",
              "      <th>0</th>\n",
              "      <td>9232.0</td>\n",
              "    </tr>\n",
              "    <tr>\n",
              "      <th>1</th>\n",
              "      <td>13963.5</td>\n",
              "    </tr>\n",
              "    <tr>\n",
              "      <th>2</th>\n",
              "      <td>5583.0</td>\n",
              "    </tr>\n",
              "    <tr>\n",
              "      <th>3</th>\n",
              "      <td>7590.0</td>\n",
              "    </tr>\n",
              "    <tr>\n",
              "      <th>4</th>\n",
              "      <td>11980.5</td>\n",
              "    </tr>\n",
              "    <tr>\n",
              "      <th>...</th>\n",
              "      <td>...</td>\n",
              "    </tr>\n",
              "    <tr>\n",
              "      <th>8540</th>\n",
              "      <td>12347.0</td>\n",
              "    </tr>\n",
              "    <tr>\n",
              "      <th>8541</th>\n",
              "      <td>14781.0</td>\n",
              "    </tr>\n",
              "    <tr>\n",
              "      <th>8542</th>\n",
              "      <td>7968.0</td>\n",
              "    </tr>\n",
              "    <tr>\n",
              "      <th>8543</th>\n",
              "      <td>4449.0</td>\n",
              "    </tr>\n",
              "    <tr>\n",
              "      <th>8544</th>\n",
              "      <td>4864.0</td>\n",
              "    </tr>\n",
              "  </tbody>\n",
              "</table>\n",
              "<p>8545 rows × 1 columns</p>\n",
              "</div>\n",
              "      <button class=\"colab-df-convert\" onclick=\"convertToInteractive('df-04cd4c2d-1e38-447b-81dd-81ac39cca954')\"\n",
              "              title=\"Convert this dataframe to an interactive table.\"\n",
              "              style=\"display:none;\">\n",
              "        \n",
              "  <svg xmlns=\"http://www.w3.org/2000/svg\" height=\"24px\"viewBox=\"0 0 24 24\"\n",
              "       width=\"24px\">\n",
              "    <path d=\"M0 0h24v24H0V0z\" fill=\"none\"/>\n",
              "    <path d=\"M18.56 5.44l.94 2.06.94-2.06 2.06-.94-2.06-.94-.94-2.06-.94 2.06-2.06.94zm-11 1L8.5 8.5l.94-2.06 2.06-.94-2.06-.94L8.5 2.5l-.94 2.06-2.06.94zm10 10l.94 2.06.94-2.06 2.06-.94-2.06-.94-.94-2.06-.94 2.06-2.06.94z\"/><path d=\"M17.41 7.96l-1.37-1.37c-.4-.4-.92-.59-1.43-.59-.52 0-1.04.2-1.43.59L10.3 9.45l-7.72 7.72c-.78.78-.78 2.05 0 2.83L4 21.41c.39.39.9.59 1.41.59.51 0 1.02-.2 1.41-.59l7.78-7.78 2.81-2.81c.8-.78.8-2.07 0-2.86zM5.41 20L4 18.59l7.72-7.72 1.47 1.35L5.41 20z\"/>\n",
              "  </svg>\n",
              "      </button>\n",
              "      \n",
              "  <style>\n",
              "    .colab-df-container {\n",
              "      display:flex;\n",
              "      flex-wrap:wrap;\n",
              "      gap: 12px;\n",
              "    }\n",
              "\n",
              "    .colab-df-convert {\n",
              "      background-color: #E8F0FE;\n",
              "      border: none;\n",
              "      border-radius: 50%;\n",
              "      cursor: pointer;\n",
              "      display: none;\n",
              "      fill: #1967D2;\n",
              "      height: 32px;\n",
              "      padding: 0 0 0 0;\n",
              "      width: 32px;\n",
              "    }\n",
              "\n",
              "    .colab-df-convert:hover {\n",
              "      background-color: #E2EBFA;\n",
              "      box-shadow: 0px 1px 2px rgba(60, 64, 67, 0.3), 0px 1px 3px 1px rgba(60, 64, 67, 0.15);\n",
              "      fill: #174EA6;\n",
              "    }\n",
              "\n",
              "    [theme=dark] .colab-df-convert {\n",
              "      background-color: #3B4455;\n",
              "      fill: #D2E3FC;\n",
              "    }\n",
              "\n",
              "    [theme=dark] .colab-df-convert:hover {\n",
              "      background-color: #434B5C;\n",
              "      box-shadow: 0px 1px 3px 1px rgba(0, 0, 0, 0.15);\n",
              "      filter: drop-shadow(0px 1px 2px rgba(0, 0, 0, 0.3));\n",
              "      fill: #FFFFFF;\n",
              "    }\n",
              "  </style>\n",
              "\n",
              "      <script>\n",
              "        const buttonEl =\n",
              "          document.querySelector('#df-04cd4c2d-1e38-447b-81dd-81ac39cca954 button.colab-df-convert');\n",
              "        buttonEl.style.display =\n",
              "          google.colab.kernel.accessAllowed ? 'block' : 'none';\n",
              "\n",
              "        async function convertToInteractive(key) {\n",
              "          const element = document.querySelector('#df-04cd4c2d-1e38-447b-81dd-81ac39cca954');\n",
              "          const dataTable =\n",
              "            await google.colab.kernel.invokeFunction('convertToInteractive',\n",
              "                                                     [key], {});\n",
              "          if (!dataTable) return;\n",
              "\n",
              "          const docLinkHtml = 'Like what you see? Visit the ' +\n",
              "            '<a target=\"_blank\" href=https://colab.research.google.com/notebooks/data_table.ipynb>data table notebook</a>'\n",
              "            + ' to learn more about interactive tables.';\n",
              "          element.innerHTML = '';\n",
              "          dataTable['output_type'] = 'display_data';\n",
              "          await google.colab.output.renderOutput(dataTable, element);\n",
              "          const docLink = document.createElement('div');\n",
              "          docLink.innerHTML = docLinkHtml;\n",
              "          element.appendChild(docLink);\n",
              "        }\n",
              "      </script>\n",
              "    </div>\n",
              "  </div>\n",
              "  "
            ]
          },
          "metadata": {},
          "execution_count": 270
        }
      ]
    },
    {
      "cell_type": "code",
      "source": [
        "import pickle\n",
        "pickle.dump(rfr,open('model1.pkl','wb'))"
      ],
      "metadata": {
        "id": "5j3r7wItnA4C"
      },
      "execution_count": 271,
      "outputs": []
    }
  ]
}